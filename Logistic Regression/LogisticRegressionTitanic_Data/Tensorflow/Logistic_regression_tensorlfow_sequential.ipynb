{
 "cells": [
  {
   "cell_type": "code",
   "execution_count": 2,
   "metadata": {},
   "outputs": [
    {
     "name": "stderr",
     "output_type": "stream",
     "text": [
      "2022-09-25 20:24:57.616153: I tensorflow/core/platform/cpu_feature_guard.cc:193] This TensorFlow binary is optimized with oneAPI Deep Neural Network Library (oneDNN) to use the following CPU instructions in performance-critical operations:  AVX2 FMA\n",
      "To enable them in other operations, rebuild TensorFlow with the appropriate compiler flags.\n",
      "2022-09-25 20:24:57.861361: W tensorflow/stream_executor/platform/default/dso_loader.cc:64] Could not load dynamic library 'libcudart.so.11.0'; dlerror: libcudart.so.11.0: cannot open shared object file: No such file or directory\n",
      "2022-09-25 20:24:57.861391: I tensorflow/stream_executor/cuda/cudart_stub.cc:29] Ignore above cudart dlerror if you do not have a GPU set up on your machine.\n",
      "2022-09-25 20:24:57.919560: E tensorflow/stream_executor/cuda/cuda_blas.cc:2981] Unable to register cuBLAS factory: Attempting to register factory for plugin cuBLAS when one has already been registered\n",
      "2022-09-25 20:24:59.535547: W tensorflow/stream_executor/platform/default/dso_loader.cc:64] Could not load dynamic library 'libnvinfer.so.7'; dlerror: libnvinfer.so.7: cannot open shared object file: No such file or directory\n",
      "2022-09-25 20:24:59.535686: W tensorflow/stream_executor/platform/default/dso_loader.cc:64] Could not load dynamic library 'libnvinfer_plugin.so.7'; dlerror: libnvinfer_plugin.so.7: cannot open shared object file: No such file or directory\n",
      "2022-09-25 20:24:59.535702: W tensorflow/compiler/tf2tensorrt/utils/py_utils.cc:38] TF-TRT Warning: Cannot dlopen some TensorRT libraries. If you would like to use Nvidia GPU with TensorRT, please make sure the missing libraries mentioned above are installed properly.\n"
     ]
    }
   ],
   "source": [
    "import numpy as np \n",
    "import pandas as pd \n",
    "import matplotlib.pyplot as plt\n",
    "import tensorflow as tf \n",
    "\n",
    "from sklearn.preprocessing import StandardScaler\n",
    "\n",
    "import time\n",
    "from tensorflow.keras.models import Sequential\n",
    "from tensorflow.keras.layers import Dense\n",
    "\n"
   ]
  },
  {
   "cell_type": "code",
   "execution_count": 3,
   "metadata": {},
   "outputs": [],
   "source": [
    "scaler=StandardScaler()"
   ]
  },
  {
   "cell_type": "code",
   "execution_count": 4,
   "metadata": {},
   "outputs": [
    {
     "data": {
      "text/plain": [
       "(1307, 27)"
      ]
     },
     "execution_count": 4,
     "metadata": {},
     "output_type": "execute_result"
    }
   ],
   "source": [
    "data=pd.read_csv('/home/jabed/Downloads/Desktop_backup/Desk1/Logistic Regression/Titanic/train_and_test2.csv')\n",
    "data.dropna(inplace=True)\n",
    "#X=np.column_stack((data['Age'],data['Sex'],data['Pclass']))\n",
    "X=data.drop(columns=['2urvived']).values\n",
    "y=data['2urvived'].values\n",
    "y=y.reshape((y.shape[0],1))\n",
    "\n",
    "\n",
    "X_scaled=scaler.fit_transform(X)\n",
    "X_scaled.shape"
   ]
  },
  {
   "cell_type": "code",
   "execution_count": 5,
   "metadata": {},
   "outputs": [
    {
     "name": "stderr",
     "output_type": "stream",
     "text": [
      "2022-09-25 20:25:01.790720: W tensorflow/stream_executor/platform/default/dso_loader.cc:64] Could not load dynamic library 'libcuda.so.1'; dlerror: libcuda.so.1: cannot open shared object file: No such file or directory\n",
      "2022-09-25 20:25:01.790788: W tensorflow/stream_executor/cuda/cuda_driver.cc:263] failed call to cuInit: UNKNOWN ERROR (303)\n",
      "2022-09-25 20:25:01.790835: I tensorflow/stream_executor/cuda/cuda_diagnostics.cc:156] kernel driver does not appear to be running on this host (jabed-HP-Notebook): /proc/driver/nvidia/version does not exist\n",
      "2022-09-25 20:25:01.791474: I tensorflow/core/platform/cpu_feature_guard.cc:193] This TensorFlow binary is optimized with oneAPI Deep Neural Network Library (oneDNN) to use the following CPU instructions in performance-critical operations:  AVX2 FMA\n",
      "To enable them in other operations, rebuild TensorFlow with the appropriate compiler flags.\n"
     ]
    }
   ],
   "source": [
    "model=Sequential(\n",
    "    [\n",
    "        Dense(1,activation=tf.nn.sigmoid,input_dim=X_scaled.shape[1])\n",
    "        \n",
    "    ]\n",
    ")"
   ]
  },
  {
   "cell_type": "code",
   "execution_count": 6,
   "metadata": {},
   "outputs": [],
   "source": [
    "'''model.compile(optimizer=tf.keras.optimizers.Adam(learning_rate=0.01),\n",
    "loss=tf.keras.losses.BinaryCrossentropy(),metrics=['acuracy'])\n",
    "'''\n",
    "\n",
    "\n",
    "\n",
    "\n",
    "\n",
    "\n",
    "model.compile(optimizer='adam', loss='binary_crossentropy',metrics=['acc'])"
   ]
  },
  {
   "cell_type": "code",
   "execution_count": 7,
   "metadata": {},
   "outputs": [
    {
     "name": "stdout",
     "output_type": "stream",
     "text": [
      "Model: \"sequential\"\n",
      "_________________________________________________________________\n",
      " Layer (type)                Output Shape              Param #   \n",
      "=================================================================\n",
      " dense (Dense)               (None, 1)                 28        \n",
      "                                                                 \n",
      "=================================================================\n",
      "Total params: 28\n",
      "Trainable params: 28\n",
      "Non-trainable params: 0\n",
      "_________________________________________________________________\n"
     ]
    }
   ],
   "source": [
    "model.summary()"
   ]
  },
  {
   "cell_type": "code",
   "execution_count": 11,
   "metadata": {},
   "outputs": [
    {
     "name": "stdout",
     "output_type": "stream",
     "text": [
      "You must install pydot (`pip install pydot`) and install graphviz (see instructions at https://graphviz.gitlab.io/download/) for plot_model to work.\n"
     ]
    }
   ],
   "source": [
    "tf.keras.utils.plot_model(model, \"my_first_model.png\")\n"
   ]
  },
  {
   "cell_type": "code",
   "execution_count": 9,
   "metadata": {},
   "outputs": [],
   "source": [
    "x_tensor=np.array(X_scaled,dtype=np.float32)\n",
    "y_tensor=np.array(y,dtype=np.float32)\n"
   ]
  },
  {
   "cell_type": "code",
   "execution_count": 10,
   "metadata": {},
   "outputs": [
    {
     "name": "stdout",
     "output_type": "stream",
     "text": [
      "Epoch 1/100\n",
      "41/41 [==============================] - 1s 5ms/step - loss: 0.7185 - acc: 0.5968\n",
      "Epoch 2/100\n",
      "41/41 [==============================] - 0s 4ms/step - loss: 0.6874 - acc: 0.6718\n",
      "Epoch 3/100\n",
      "41/41 [==============================] - 0s 4ms/step - loss: 0.6590 - acc: 0.6909\n",
      "Epoch 4/100\n",
      "41/41 [==============================] - 0s 5ms/step - loss: 0.6337 - acc: 0.7070\n",
      "Epoch 5/100\n",
      "41/41 [==============================] - 0s 4ms/step - loss: 0.6113 - acc: 0.7284\n",
      "Epoch 6/100\n",
      "41/41 [==============================] - 0s 4ms/step - loss: 0.5913 - acc: 0.7406\n",
      "Epoch 7/100\n",
      "41/41 [==============================] - 0s 5ms/step - loss: 0.5736 - acc: 0.7536\n",
      "Epoch 8/100\n",
      "41/41 [==============================] - 0s 4ms/step - loss: 0.5578 - acc: 0.7613\n",
      "Epoch 9/100\n",
      "41/41 [==============================] - 0s 5ms/step - loss: 0.5438 - acc: 0.7605\n",
      "Epoch 10/100\n",
      "41/41 [==============================] - 0s 5ms/step - loss: 0.5312 - acc: 0.7666\n",
      "Epoch 11/100\n",
      "41/41 [==============================] - 0s 4ms/step - loss: 0.5199 - acc: 0.7758\n",
      "Epoch 12/100\n",
      "41/41 [==============================] - 0s 6ms/step - loss: 0.5097 - acc: 0.7827\n",
      "Epoch 13/100\n",
      "41/41 [==============================] - 0s 5ms/step - loss: 0.5005 - acc: 0.7919\n",
      "Epoch 14/100\n",
      "41/41 [==============================] - 0s 4ms/step - loss: 0.4922 - acc: 0.7988\n",
      "Epoch 15/100\n",
      "41/41 [==============================] - 0s 6ms/step - loss: 0.4846 - acc: 0.8057\n",
      "Epoch 16/100\n",
      "41/41 [==============================] - 0s 5ms/step - loss: 0.4777 - acc: 0.8110\n",
      "Epoch 17/100\n",
      "41/41 [==============================] - 0s 5ms/step - loss: 0.4713 - acc: 0.8179\n",
      "Epoch 18/100\n",
      "41/41 [==============================] - 0s 5ms/step - loss: 0.4655 - acc: 0.8202\n",
      "Epoch 19/100\n",
      "41/41 [==============================] - 0s 5ms/step - loss: 0.4602 - acc: 0.8194\n",
      "Epoch 20/100\n",
      "41/41 [==============================] - 0s 4ms/step - loss: 0.4553 - acc: 0.8217\n",
      "Epoch 21/100\n",
      "41/41 [==============================] - 0s 4ms/step - loss: 0.4507 - acc: 0.8233\n",
      "Epoch 22/100\n",
      "41/41 [==============================] - 0s 6ms/step - loss: 0.4465 - acc: 0.8256\n",
      "Epoch 23/100\n",
      "41/41 [==============================] - 0s 6ms/step - loss: 0.4425 - acc: 0.8301\n",
      "Epoch 24/100\n",
      "41/41 [==============================] - 0s 4ms/step - loss: 0.4389 - acc: 0.8294\n",
      "Epoch 25/100\n",
      "41/41 [==============================] - 0s 5ms/step - loss: 0.4355 - acc: 0.8294\n",
      "Epoch 26/100\n",
      "41/41 [==============================] - 0s 3ms/step - loss: 0.4323 - acc: 0.8317\n",
      "Epoch 27/100\n",
      "41/41 [==============================] - 0s 4ms/step - loss: 0.4293 - acc: 0.8309\n",
      "Epoch 28/100\n",
      "41/41 [==============================] - 0s 4ms/step - loss: 0.4265 - acc: 0.8294\n",
      "Epoch 29/100\n",
      "41/41 [==============================] - 0s 4ms/step - loss: 0.4240 - acc: 0.8317\n",
      "Epoch 30/100\n",
      "41/41 [==============================] - 0s 4ms/step - loss: 0.4216 - acc: 0.8332\n",
      "Epoch 31/100\n",
      "41/41 [==============================] - 0s 5ms/step - loss: 0.4193 - acc: 0.8332\n",
      "Epoch 32/100\n",
      "41/41 [==============================] - 0s 5ms/step - loss: 0.4172 - acc: 0.8332\n",
      "Epoch 33/100\n",
      "41/41 [==============================] - 0s 5ms/step - loss: 0.4152 - acc: 0.8363\n",
      "Epoch 34/100\n",
      "41/41 [==============================] - 0s 5ms/step - loss: 0.4134 - acc: 0.8355\n",
      "Epoch 35/100\n",
      "41/41 [==============================] - 0s 4ms/step - loss: 0.4116 - acc: 0.8363\n",
      "Epoch 36/100\n",
      "41/41 [==============================] - 0s 6ms/step - loss: 0.4099 - acc: 0.8363\n",
      "Epoch 37/100\n",
      "41/41 [==============================] - 0s 6ms/step - loss: 0.4085 - acc: 0.8370\n",
      "Epoch 38/100\n",
      "41/41 [==============================] - 0s 6ms/step - loss: 0.4069 - acc: 0.8370\n",
      "Epoch 39/100\n",
      "41/41 [==============================] - 0s 5ms/step - loss: 0.4056 - acc: 0.8370\n",
      "Epoch 40/100\n",
      "41/41 [==============================] - 0s 4ms/step - loss: 0.4043 - acc: 0.8378\n",
      "Epoch 41/100\n",
      "41/41 [==============================] - 0s 5ms/step - loss: 0.4032 - acc: 0.8386\n",
      "Epoch 42/100\n",
      "41/41 [==============================] - 0s 5ms/step - loss: 0.4019 - acc: 0.8393\n",
      "Epoch 43/100\n",
      "41/41 [==============================] - 0s 4ms/step - loss: 0.4009 - acc: 0.8386\n",
      "Epoch 44/100\n",
      "41/41 [==============================] - 0s 4ms/step - loss: 0.3999 - acc: 0.8393\n",
      "Epoch 45/100\n",
      "41/41 [==============================] - 0s 3ms/step - loss: 0.3989 - acc: 0.8393\n",
      "Epoch 46/100\n",
      "41/41 [==============================] - 0s 4ms/step - loss: 0.3980 - acc: 0.8393\n",
      "Epoch 47/100\n",
      "41/41 [==============================] - 0s 4ms/step - loss: 0.3972 - acc: 0.8393\n",
      "Epoch 48/100\n",
      "41/41 [==============================] - 0s 5ms/step - loss: 0.3965 - acc: 0.8386\n",
      "Epoch 49/100\n",
      "41/41 [==============================] - 0s 6ms/step - loss: 0.3957 - acc: 0.8386\n",
      "Epoch 50/100\n",
      "41/41 [==============================] - 0s 4ms/step - loss: 0.3949 - acc: 0.8401\n",
      "Epoch 51/100\n",
      "41/41 [==============================] - 0s 4ms/step - loss: 0.3943 - acc: 0.8401\n",
      "Epoch 52/100\n",
      "41/41 [==============================] - 0s 4ms/step - loss: 0.3937 - acc: 0.8393\n",
      "Epoch 53/100\n",
      "41/41 [==============================] - 0s 4ms/step - loss: 0.3931 - acc: 0.8393\n",
      "Epoch 54/100\n",
      "41/41 [==============================] - 0s 4ms/step - loss: 0.3925 - acc: 0.8401\n",
      "Epoch 55/100\n",
      "41/41 [==============================] - 0s 4ms/step - loss: 0.3920 - acc: 0.8401\n",
      "Epoch 56/100\n",
      "41/41 [==============================] - 0s 4ms/step - loss: 0.3916 - acc: 0.8386\n",
      "Epoch 57/100\n",
      "41/41 [==============================] - 0s 3ms/step - loss: 0.3910 - acc: 0.8393\n",
      "Epoch 58/100\n",
      "41/41 [==============================] - 0s 5ms/step - loss: 0.3907 - acc: 0.8409\n",
      "Epoch 59/100\n",
      "41/41 [==============================] - 0s 5ms/step - loss: 0.3902 - acc: 0.8393\n",
      "Epoch 60/100\n",
      "41/41 [==============================] - 0s 4ms/step - loss: 0.3898 - acc: 0.8386\n",
      "Epoch 61/100\n",
      "41/41 [==============================] - 0s 4ms/step - loss: 0.3894 - acc: 0.8401\n",
      "Epoch 62/100\n",
      "41/41 [==============================] - 0s 4ms/step - loss: 0.3891 - acc: 0.8401\n",
      "Epoch 63/100\n",
      "41/41 [==============================] - 0s 4ms/step - loss: 0.3888 - acc: 0.8393\n",
      "Epoch 64/100\n",
      "41/41 [==============================] - 0s 4ms/step - loss: 0.3885 - acc: 0.8378\n",
      "Epoch 65/100\n",
      "41/41 [==============================] - 0s 4ms/step - loss: 0.3881 - acc: 0.8378\n",
      "Epoch 66/100\n",
      "41/41 [==============================] - 0s 5ms/step - loss: 0.3879 - acc: 0.8393\n",
      "Epoch 67/100\n",
      "41/41 [==============================] - 0s 5ms/step - loss: 0.3876 - acc: 0.8386\n",
      "Epoch 68/100\n",
      "41/41 [==============================] - 0s 4ms/step - loss: 0.3873 - acc: 0.8386\n",
      "Epoch 69/100\n",
      "41/41 [==============================] - 0s 4ms/step - loss: 0.3872 - acc: 0.8378\n",
      "Epoch 70/100\n",
      "41/41 [==============================] - 0s 4ms/step - loss: 0.3870 - acc: 0.8378\n",
      "Epoch 71/100\n",
      "41/41 [==============================] - 0s 4ms/step - loss: 0.3868 - acc: 0.8386\n",
      "Epoch 72/100\n",
      "41/41 [==============================] - 0s 5ms/step - loss: 0.3865 - acc: 0.8386\n",
      "Epoch 73/100\n",
      "41/41 [==============================] - 0s 5ms/step - loss: 0.3865 - acc: 0.8378\n",
      "Epoch 74/100\n",
      "41/41 [==============================] - 0s 4ms/step - loss: 0.3862 - acc: 0.8386\n",
      "Epoch 75/100\n",
      "41/41 [==============================] - 0s 4ms/step - loss: 0.3860 - acc: 0.8378\n",
      "Epoch 76/100\n",
      "41/41 [==============================] - 0s 4ms/step - loss: 0.3858 - acc: 0.8378\n",
      "Epoch 77/100\n",
      "41/41 [==============================] - 0s 4ms/step - loss: 0.3858 - acc: 0.8370\n",
      "Epoch 78/100\n",
      "41/41 [==============================] - 0s 4ms/step - loss: 0.3856 - acc: 0.8386\n",
      "Epoch 79/100\n",
      "41/41 [==============================] - 0s 3ms/step - loss: 0.3854 - acc: 0.8378\n",
      "Epoch 80/100\n",
      "41/41 [==============================] - 0s 4ms/step - loss: 0.3853 - acc: 0.8370\n",
      "Epoch 81/100\n",
      "41/41 [==============================] - 0s 4ms/step - loss: 0.3852 - acc: 0.8370\n",
      "Epoch 82/100\n",
      "41/41 [==============================] - 0s 4ms/step - loss: 0.3851 - acc: 0.8370\n",
      "Epoch 83/100\n",
      "41/41 [==============================] - 0s 4ms/step - loss: 0.3850 - acc: 0.8370\n",
      "Epoch 84/100\n",
      "41/41 [==============================] - 0s 4ms/step - loss: 0.3849 - acc: 0.8370\n",
      "Epoch 85/100\n",
      "41/41 [==============================] - 0s 4ms/step - loss: 0.3849 - acc: 0.8370\n",
      "Epoch 86/100\n",
      "41/41 [==============================] - 0s 4ms/step - loss: 0.3847 - acc: 0.8370\n",
      "Epoch 87/100\n",
      "41/41 [==============================] - 0s 4ms/step - loss: 0.3847 - acc: 0.8378\n",
      "Epoch 88/100\n",
      "41/41 [==============================] - 0s 4ms/step - loss: 0.3846 - acc: 0.8378\n",
      "Epoch 89/100\n",
      "41/41 [==============================] - 0s 4ms/step - loss: 0.3845 - acc: 0.8378\n",
      "Epoch 90/100\n",
      "41/41 [==============================] - 0s 4ms/step - loss: 0.3844 - acc: 0.8363\n",
      "Epoch 91/100\n",
      "41/41 [==============================] - 0s 4ms/step - loss: 0.3844 - acc: 0.8370\n",
      "Epoch 92/100\n",
      "41/41 [==============================] - 0s 4ms/step - loss: 0.3843 - acc: 0.8370\n",
      "Epoch 93/100\n",
      "41/41 [==============================] - 0s 6ms/step - loss: 0.3843 - acc: 0.8370\n",
      "Epoch 94/100\n",
      "41/41 [==============================] - 0s 8ms/step - loss: 0.3842 - acc: 0.8370\n",
      "Epoch 95/100\n",
      "41/41 [==============================] - 0s 5ms/step - loss: 0.3842 - acc: 0.8370\n",
      "Epoch 96/100\n",
      "41/41 [==============================] - 0s 5ms/step - loss: 0.3841 - acc: 0.8370\n",
      "Epoch 97/100\n",
      "41/41 [==============================] - 0s 6ms/step - loss: 0.3840 - acc: 0.8370\n",
      "Epoch 98/100\n",
      "41/41 [==============================] - 0s 5ms/step - loss: 0.3840 - acc: 0.8378\n",
      "Epoch 99/100\n",
      "41/41 [==============================] - 0s 6ms/step - loss: 0.3839 - acc: 0.8386\n",
      "Epoch 100/100\n",
      "41/41 [==============================] - 0s 5ms/step - loss: 0.3840 - acc: 0.8378\n"
     ]
    },
    {
     "data": {
      "text/plain": [
       "<keras.callbacks.History at 0x7f2a9814aee0>"
      ]
     },
     "execution_count": 10,
     "metadata": {},
     "output_type": "execute_result"
    }
   ],
   "source": [
    "model.fit(x_tensor,y_tensor,epochs=100)"
   ]
  },
  {
   "cell_type": "code",
   "execution_count": null,
   "metadata": {},
   "outputs": [],
   "source": []
  }
 ],
 "metadata": {
  "interpreter": {
   "hash": "31f2aee4e71d21fbe5cf8b01ff0e069b9275f58929596ceb00d14d90e3e16cd6"
  },
  "kernelspec": {
   "display_name": "Python 3.8.10 64-bit",
   "language": "python",
   "name": "python3"
  },
  "language_info": {
   "codemirror_mode": {
    "name": "ipython",
    "version": 3
   },
   "file_extension": ".py",
   "mimetype": "text/x-python",
   "name": "python",
   "nbconvert_exporter": "python",
   "pygments_lexer": "ipython3",
   "version": "3.8.10"
  },
  "orig_nbformat": 4
 },
 "nbformat": 4,
 "nbformat_minor": 2
}
