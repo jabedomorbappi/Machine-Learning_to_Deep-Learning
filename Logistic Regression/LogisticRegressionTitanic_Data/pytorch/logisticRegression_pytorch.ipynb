{
 "cells": [
  {
   "cell_type": "code",
   "execution_count": 20,
   "metadata": {},
   "outputs": [],
   "source": [
    "import numpy as np \n",
    "import pandas as pd \n",
    "import matplotlib.pyplot as plt \n",
    "from sklearn.preprocessing import StandardScaler\n",
    "\n",
    "from sklearn.metrics import accuracy_score\n",
    "import time\n",
    "import torch \n",
    "from torch import nn\n"
   ]
  },
  {
   "cell_type": "code",
   "execution_count": 21,
   "metadata": {},
   "outputs": [],
   "source": [
    "scaler=StandardScaler()"
   ]
  },
  {
   "cell_type": "code",
   "execution_count": 22,
   "metadata": {},
   "outputs": [
    {
     "data": {
      "text/plain": [
       "(1307, 27)"
      ]
     },
     "execution_count": 22,
     "metadata": {},
     "output_type": "execute_result"
    }
   ],
   "source": [
    "data=pd.read_csv('/home/jabed/Downloads/Desktop_backup/Desk1/Logistic Regression/Titanic/train_and_test2.csv')\n",
    "data.dropna(inplace=True)\n",
    "#X=np.column_stack((data['Age'],data['Sex'],data['Pclass']))\n",
    "X=data.drop(columns=['2urvived']).values\n",
    "y=data['2urvived'].values\n",
    "y=y.reshape((y.shape[0],1))\n",
    "\n",
    "\n",
    "X_scaled=scaler.fit_transform(X)\n",
    "X_scaled.shape"
   ]
  },
  {
   "cell_type": "code",
   "execution_count": 23,
   "metadata": {},
   "outputs": [],
   "source": [
    "X_torch=torch.tensor(X_scaled,dtype=torch.float32)\n",
    "y_torch=torch.tensor(y,dtype=torch.float32)"
   ]
  },
  {
   "cell_type": "code",
   "execution_count": 24,
   "metadata": {},
   "outputs": [],
   "source": [
    "class LogisticModel(nn.Module):\n",
    "    \n",
    "    def __init__(self, in_size,units=1):\n",
    "        super(LogisticModel,self).__init__()\n",
    "        # hidden layer\n",
    "        self.linear= nn.Linear(in_size, units)\n",
    "        self.sigmoid=nn.Sigmoid()\n",
    "        self.loss=nn.MSELoss()\n",
    "\n",
    "    def __call__(self,xb):\n",
    "        self.x=xb \n",
    "        l1=self.linear(self.x)\n",
    "        out=self.sigmoid(l1)\n",
    "        return out    \n",
    "        \n",
    "   \n",
    "    def training_step(self,x_train,y_true):\n",
    "        y_pred=self(x_train)\n",
    "        loss_value=self.loss(y_pred,y_true)\n",
    "        \n",
    "        return y_pred,loss_value\n",
    "    def accuracy(self,y_pred,y_true):\n",
    "        acc=accuracy_score(y_pred.reshape(-1).detach().numpy().round(),y_torch.detach().numpy())\n",
    "        return acc \n",
    "           \n",
    "    def epoch_end(self, epoch, train_loss,acc):\n",
    "        print(\"Epoch [{}], _loss: {:.4f}, and accuracy is {:.4f} \".format(epoch, train_loss,acc))\n",
    "    \n",
    "            \n",
    "       \n",
    "\n",
    "  \n"
   ]
  },
  {
   "cell_type": "code",
   "execution_count": 25,
   "metadata": {},
   "outputs": [],
   "source": [
    "model=LogisticModel(X_scaled.shape[1])\n",
    "optimizer=torch.optim.SGD(model.parameters(),lr=0.05)"
   ]
  },
  {
   "cell_type": "code",
   "execution_count": 26,
   "metadata": {},
   "outputs": [],
   "source": [
    "def fit(num_epoch):\n",
    "    j_hist=[]\n",
    "    start=time.time()\n",
    "    for epoch in range(num_epoch):\n",
    "        y_pred,loss_value=model.training_step(X_torch,y_torch)\n",
    "        optimizer.zero_grad()\n",
    "        loss_value.backward()\n",
    "        optimizer.step()\n",
    "        acc=model.accuracy(y_pred,y_torch) \n",
    "        model.epoch_end(epoch+1,loss_value,acc)\n",
    "        j_hist.append((loss_value.item(),acc))\n",
    "    end=time.time()\n",
    "    print('total time is =',end-start)    \n",
    "    return j_hist\n",
    "\n",
    "    \n",
    "\n",
    "    "
   ]
  },
  {
   "cell_type": "code",
   "execution_count": 27,
   "metadata": {},
   "outputs": [
    {
     "name": "stdout",
     "output_type": "stream",
     "text": [
      "Epoch [1], _loss: 0.2689, and accuracy is 0.4713 \n",
      "Epoch [2], _loss: 0.2671, and accuracy is 0.4820 \n",
      "Epoch [3], _loss: 0.2653, and accuracy is 0.4943 \n",
      "Epoch [4], _loss: 0.2635, and accuracy is 0.5034 \n",
      "Epoch [5], _loss: 0.2618, and accuracy is 0.5134 \n",
      "Epoch [6], _loss: 0.2600, and accuracy is 0.5264 \n",
      "Epoch [7], _loss: 0.2583, and accuracy is 0.5333 \n",
      "Epoch [8], _loss: 0.2566, and accuracy is 0.5455 \n",
      "Epoch [9], _loss: 0.2549, and accuracy is 0.5562 \n",
      "Epoch [10], _loss: 0.2533, and accuracy is 0.5669 \n",
      "Epoch [11], _loss: 0.2517, and accuracy is 0.5807 \n",
      "Epoch [12], _loss: 0.2500, and accuracy is 0.5968 \n",
      "Epoch [13], _loss: 0.2485, and accuracy is 0.6090 \n",
      "Epoch [14], _loss: 0.2469, and accuracy is 0.6236 \n",
      "Epoch [15], _loss: 0.2453, and accuracy is 0.6412 \n",
      "Epoch [16], _loss: 0.2438, and accuracy is 0.6511 \n",
      "Epoch [17], _loss: 0.2423, and accuracy is 0.6634 \n",
      "Epoch [18], _loss: 0.2408, and accuracy is 0.6687 \n",
      "Epoch [19], _loss: 0.2394, and accuracy is 0.6756 \n",
      "Epoch [20], _loss: 0.2379, and accuracy is 0.6809 \n",
      "Epoch [21], _loss: 0.2365, and accuracy is 0.6840 \n",
      "Epoch [22], _loss: 0.2351, and accuracy is 0.6871 \n",
      "Epoch [23], _loss: 0.2337, and accuracy is 0.6909 \n",
      "Epoch [24], _loss: 0.2324, and accuracy is 0.6940 \n",
      "Epoch [25], _loss: 0.2310, and accuracy is 0.6963 \n",
      "Epoch [26], _loss: 0.2297, and accuracy is 0.6985 \n",
      "Epoch [27], _loss: 0.2284, and accuracy is 0.7001 \n",
      "Epoch [28], _loss: 0.2271, and accuracy is 0.7016 \n",
      "Epoch [29], _loss: 0.2259, and accuracy is 0.7016 \n",
      "Epoch [30], _loss: 0.2246, and accuracy is 0.7024 \n",
      "Epoch [31], _loss: 0.2234, and accuracy is 0.7054 \n",
      "Epoch [32], _loss: 0.2222, and accuracy is 0.7062 \n",
      "Epoch [33], _loss: 0.2210, and accuracy is 0.7085 \n",
      "Epoch [34], _loss: 0.2199, and accuracy is 0.7116 \n",
      "Epoch [35], _loss: 0.2187, and accuracy is 0.7146 \n",
      "Epoch [36], _loss: 0.2176, and accuracy is 0.7146 \n",
      "Epoch [37], _loss: 0.2165, and accuracy is 0.7146 \n",
      "Epoch [38], _loss: 0.2154, and accuracy is 0.7161 \n",
      "Epoch [39], _loss: 0.2143, and accuracy is 0.7154 \n",
      "Epoch [40], _loss: 0.2132, and accuracy is 0.7177 \n",
      "Epoch [41], _loss: 0.2122, and accuracy is 0.7177 \n",
      "Epoch [42], _loss: 0.2112, and accuracy is 0.7200 \n",
      "Epoch [43], _loss: 0.2102, and accuracy is 0.7223 \n",
      "Epoch [44], _loss: 0.2092, and accuracy is 0.7238 \n",
      "Epoch [45], _loss: 0.2082, and accuracy is 0.7246 \n",
      "Epoch [46], _loss: 0.2072, and accuracy is 0.7253 \n",
      "Epoch [47], _loss: 0.2063, and accuracy is 0.7269 \n",
      "Epoch [48], _loss: 0.2054, and accuracy is 0.7269 \n",
      "Epoch [49], _loss: 0.2044, and accuracy is 0.7269 \n",
      "Epoch [50], _loss: 0.2035, and accuracy is 0.7269 \n",
      "Epoch [51], _loss: 0.2027, and accuracy is 0.7276 \n",
      "Epoch [52], _loss: 0.2018, and accuracy is 0.7284 \n",
      "Epoch [53], _loss: 0.2009, and accuracy is 0.7299 \n",
      "Epoch [54], _loss: 0.2001, and accuracy is 0.7345 \n",
      "Epoch [55], _loss: 0.1992, and accuracy is 0.7337 \n",
      "Epoch [56], _loss: 0.1984, and accuracy is 0.7345 \n",
      "Epoch [57], _loss: 0.1976, and accuracy is 0.7383 \n",
      "Epoch [58], _loss: 0.1968, and accuracy is 0.7391 \n",
      "Epoch [59], _loss: 0.1960, and accuracy is 0.7414 \n",
      "Epoch [60], _loss: 0.1953, and accuracy is 0.7429 \n",
      "Epoch [61], _loss: 0.1945, and accuracy is 0.7467 \n",
      "Epoch [62], _loss: 0.1938, and accuracy is 0.7490 \n",
      "Epoch [63], _loss: 0.1930, and accuracy is 0.7513 \n",
      "Epoch [64], _loss: 0.1923, and accuracy is 0.7529 \n",
      "Epoch [65], _loss: 0.1916, and accuracy is 0.7552 \n",
      "Epoch [66], _loss: 0.1909, and accuracy is 0.7559 \n",
      "Epoch [67], _loss: 0.1902, and accuracy is 0.7559 \n",
      "Epoch [68], _loss: 0.1895, and accuracy is 0.7590 \n",
      "Epoch [69], _loss: 0.1889, and accuracy is 0.7590 \n",
      "Epoch [70], _loss: 0.1882, and accuracy is 0.7582 \n",
      "Epoch [71], _loss: 0.1876, and accuracy is 0.7582 \n",
      "Epoch [72], _loss: 0.1869, and accuracy is 0.7605 \n",
      "Epoch [73], _loss: 0.1863, and accuracy is 0.7613 \n",
      "Epoch [74], _loss: 0.1857, and accuracy is 0.7628 \n",
      "Epoch [75], _loss: 0.1851, and accuracy is 0.7621 \n",
      "Epoch [76], _loss: 0.1845, and accuracy is 0.7651 \n",
      "Epoch [77], _loss: 0.1839, and accuracy is 0.7674 \n",
      "Epoch [78], _loss: 0.1833, and accuracy is 0.7697 \n",
      "Epoch [79], _loss: 0.1827, and accuracy is 0.7712 \n",
      "Epoch [80], _loss: 0.1821, and accuracy is 0.7728 \n",
      "Epoch [81], _loss: 0.1816, and accuracy is 0.7735 \n",
      "Epoch [82], _loss: 0.1810, and accuracy is 0.7743 \n",
      "Epoch [83], _loss: 0.1805, and accuracy is 0.7728 \n",
      "Epoch [84], _loss: 0.1800, and accuracy is 0.7766 \n",
      "Epoch [85], _loss: 0.1794, and accuracy is 0.7774 \n",
      "Epoch [86], _loss: 0.1789, and accuracy is 0.7796 \n",
      "Epoch [87], _loss: 0.1784, and accuracy is 0.7812 \n",
      "Epoch [88], _loss: 0.1779, and accuracy is 0.7812 \n",
      "Epoch [89], _loss: 0.1774, and accuracy is 0.7819 \n",
      "Epoch [90], _loss: 0.1769, and accuracy is 0.7827 \n",
      "Epoch [91], _loss: 0.1764, and accuracy is 0.7835 \n",
      "Epoch [92], _loss: 0.1760, and accuracy is 0.7827 \n",
      "Epoch [93], _loss: 0.1755, and accuracy is 0.7842 \n",
      "Epoch [94], _loss: 0.1750, and accuracy is 0.7850 \n",
      "Epoch [95], _loss: 0.1746, and accuracy is 0.7858 \n",
      "Epoch [96], _loss: 0.1741, and accuracy is 0.7865 \n",
      "Epoch [97], _loss: 0.1737, and accuracy is 0.7873 \n",
      "Epoch [98], _loss: 0.1732, and accuracy is 0.7896 \n",
      "Epoch [99], _loss: 0.1728, and accuracy is 0.7896 \n",
      "Epoch [100], _loss: 0.1724, and accuracy is 0.7911 \n",
      "0.24601960182189941\n"
     ]
    }
   ],
   "source": [
    "j_history=fit(100)"
   ]
  },
  {
   "cell_type": "code",
   "execution_count": 28,
   "metadata": {},
   "outputs": [
    {
     "data": {
      "image/png": "[encoded data removed]",
      "text/plain": [
       "<Figure size 640x480 with 1 Axes>"
      ]
     },
     "metadata": {},
     "output_type": "display_data"
    },
    {
     "data": {
      "text/plain": [
       "[<matplotlib.lines.Line2D at 0x7fd0c1911fd0>]"
      ]
     },
     "execution_count": 28,
     "metadata": {},
     "output_type": "execute_result"
    },
    {
     "data": {
      "image/png": "[encoded data removed]",
      "text/plain": [
       "<Figure size 640x480 with 1 Axes>"
      ]
     },
     "metadata": {},
     "output_type": "display_data"
    }
   ],
   "source": [
    "plt.plot(np.array(j_history)[:,0])\n",
    "plt.show()\n",
    "plt.plot(np.array(j_history)[:,1])\n"
   ]
  },
  {
   "cell_type": "code",
   "execution_count": null,
   "metadata": {},
   "outputs": [],
   "source": []
  },
  {
   "cell_type": "code",
   "execution_count": null,
   "metadata": {},
   "outputs": [],
   "source": []
  }
 ],
 "metadata": {
  "interpreter": {
   "hash": "31f2aee4e71d21fbe5cf8b01ff0e069b9275f58929596ceb00d14d90e3e16cd6"
  },
  "kernelspec": {
   "display_name": "Python 3.8.10 64-bit",
   "language": "python",
   "name": "python3"
  },
  "language_info": {
   "codemirror_mode": {
    "name": "ipython",
    "version": 3
   },
   "file_extension": ".py",
   "mimetype": "text/x-python",
   "name": "python",
   "nbconvert_exporter": "python",
   "pygments_lexer": "ipython3",
   "version": "3.8.10"
  },
  "orig_nbformat": 4
 },
 "nbformat": 4,
 "nbformat_minor": 2
}
