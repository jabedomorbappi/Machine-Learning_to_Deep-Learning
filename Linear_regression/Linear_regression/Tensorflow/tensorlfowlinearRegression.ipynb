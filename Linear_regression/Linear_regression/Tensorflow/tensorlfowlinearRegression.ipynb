{
 "cells": [
  {
   "cell_type": "code",
   "execution_count": 68,
   "metadata": {},
   "outputs": [],
   "source": [
    "import tensorflow as tf \n",
    "import numpy as np \n",
    "import matplotlib.pyplot as plt \n"
   ]
  },
  {
   "cell_type": "code",
   "execution_count": 69,
   "metadata": {},
   "outputs": [],
   "source": [
    "# number of training samples to create\n",
    "n_samples = 10000\n",
    "# `m` and `c` are coefficient and bias to get the initial `y`\n",
    "m = 9\n",
    "c = -2\n",
    "mean = 0.0 # mean of the training data distribution to create\n",
    "std = 1.0 # standard deviation of the of the training data distribution to create\n",
    "# number of training epochs \n",
    "num_epochs = 3000\n",
    "# learning rate\n",
    "learning_rate = 0.001"
   ]
  },
  {
   "cell_type": "code",
   "execution_count": 70,
   "metadata": {},
   "outputs": [],
   "source": [
    "def create_dataset(n_samples, m, c):\n",
    "    # create the sample dataset\n",
    "    x = np.random.normal(mean, std, n_samples)\n",
    "    random_noise = np.random.normal(mean, std, n_samples)\n",
    "    y = m*x + c + random_noise\n",
    "    x_train, y_train = x[:8000], y[:8000]\n",
    "    \n",
    "    \n",
    "    x_test, y_test = x[8000:], y[8000:]\n",
    "   \n",
    "    \n",
    "    return x_train, y_train, x_test, y_test"
   ]
  },
  {
   "cell_type": "code",
   "execution_count": 71,
   "metadata": {},
   "outputs": [
    {
     "name": "stdout",
     "output_type": "stream",
     "text": [
      "Training samples: 8000\n",
      "Test samples: 2000\n"
     ]
    },
    {
     "data": {
      "image/png": "[encoded data removed]",
      "text/plain": [
       "<Figure size 864x648 with 1 Axes>"
      ]
     },
     "metadata": {
      "needs_background": "light"
     },
     "output_type": "display_data"
    }
   ],
   "source": [
    "x_train, y_train, x_test, y_test=create_dataset(n_samples,m,c)\n",
    "\n",
    "print(f\"Training samples: {len(x_train)}\")\n",
    "print(f\"Test samples: {len(x_test)}\")\n",
    "plt.figure(figsize=(12, 9))\n",
    "plt.scatter(x_train, y_train)\n",
    "plt.xlabel('x_train')\n",
    "plt.ylabel('y_train')\n",
    "plt.title('Training data distribution')\n",
    "plt.savefig('training_data.jpg')"
   ]
  },
  {
   "cell_type": "code",
   "execution_count": 72,
   "metadata": {},
   "outputs": [],
   "source": [
    "x_train=np.array(x_train).reshape((x_train.shape[0],1))\n",
    "x_test=np.array(x_test).reshape((x_test.shape[0],1))\n",
    "y_train=np.array(y_train).reshape((y_train.shape[0],1))\n",
    "y_test=np.array(y_test).reshape((y_test.shape[0],1))"
   ]
  },
  {
   "cell_type": "code",
   "execution_count": 73,
   "metadata": {},
   "outputs": [],
   "source": [
    "#W = tf.Variable(np.random.randn())\n",
    "#B = tf.Variable(np.random.randn())\n",
    "##print(W)\n",
    "#print(B)"
   ]
  },
  {
   "cell_type": "code",
   "execution_count": 144,
   "metadata": {},
   "outputs": [],
   "source": [
    "class LinearModel(tf.keras.Model):\n",
    "    \n",
    "    def __init__(self,input_dim,units=1):\n",
    "        super(LinearModel,self).__init__()\n",
    "        self.weight=tf.Variable(np.random.randn(input_dim,units),trainable=True)\n",
    "        self.bias=tf.Variable(np.zeros(units),trainable=True)\n",
    "        \n",
    "        #self.weight = self.add_weight(shape=(input_dim, units),initializer=\"random_normal\",trainable=True)\n",
    "        #self.bias = self.add_weight(shape=(units,), initializer=\"random_normal\", trainable=True)\n",
    "\n",
    "    def forward(self,xb):\n",
    "        self.y_pred=tf.matmul(xb, self.weight) + self.bias \n",
    "        \n",
    "        return  self.y_pred  \n",
    "    def mse(self,y_true):\n",
    "        self.loss=tf.reduce_mean(tf.square(tf.subtract(y_true,self.y_pred)))\n",
    "        \n",
    "        return self.loss \n",
    "    \n",
    "    \n",
    "    \n"
   ]
  },
  {
   "cell_type": "code",
   "execution_count": 146,
   "metadata": {},
   "outputs": [],
   "source": [
    "model=LinearModel(x_train.shape[1])\n",
    "y_pred=model.forward(x_train)\n",
    "loss=model.mse(y_train)\n",
    "\n",
    "\n"
   ]
  },
  {
   "cell_type": "code",
   "execution_count": 147,
   "metadata": {},
   "outputs": [],
   "source": [
    "def fit():\n",
    "    for epoch in range(100):\n",
    "        with tf.GradientTape() as tape:\n",
    "            y_pred=model.forward(x_train)\n",
    "        \n",
    "            loss=model.mse(y_train)\n",
    "        grads=tape.gradient(loss,[model.weight,model.bias])\n",
    "        model.weight.assign_sub(grads[0]*0.01)\n",
    "        model.bias.assign_sub(grads[1]*0.01)\n",
    "        if epoch%10==0:\n",
    "            print('epoch {} loss {}'.format(epoch,loss.numpy()))\n",
    "\n",
    "    \n",
    "  \n"
   ]
  },
  {
   "cell_type": "code",
   "execution_count": 148,
   "metadata": {},
   "outputs": [
    {
     "name": "stdout",
     "output_type": "stream",
     "text": [
      "epoch 0 loss 57.71556380537883\n",
      "epoch 10 loss 38.70537562908223\n",
      "epoch 20 loss 26.063125488967096\n",
      "epoch 30 loss 17.655528417214313\n",
      "epoch 40 loss 12.064019586997226\n",
      "epoch 50 loss 8.345279553385463\n",
      "epoch 60 loss 5.8720047786220935\n",
      "epoch 70 loss 4.227031954435578\n",
      "epoch 80 loss 3.132937131014388\n",
      "epoch 90 loss 2.405222443032235\n"
     ]
    }
   ],
   "source": [
    "fit()"
   ]
  },
  {
   "cell_type": "code",
   "execution_count": 153,
   "metadata": {},
   "outputs": [],
   "source": [
    "from tensorflow import keras\n",
    "from tensorflow.keras import layers\n",
    "from tensorflow.keras import optimizers\n",
    "\n",
    "\n",
    "import warnings\n",
    "\n",
    "def fxn():\n",
    "    warnings.warn(\"deprecated\", DeprecationWarning)\n",
    "\n",
    "with warnings.catch_warnings():\n",
    "    warnings.simplefilter(\"ignore\")\n",
    "    fxn()"
   ]
  },
  {
   "cell_type": "code",
   "execution_count": 155,
   "metadata": {},
   "outputs": [
    {
     "name": "stdout",
     "output_type": "stream",
     "text": [
      "Model: \"model_2\"\n",
      "_________________________________________________________________\n",
      " Layer (type)                Output Shape              Param #   \n",
      "=================================================================\n",
      " input_3 (InputLayer)        [(None, 8000, 1)]         0         \n",
      "                                                                 \n",
      " regression (Dense)          (None, 8000, 1)           2         \n",
      "                                                                 \n",
      "=================================================================\n",
      "Total params: 2\n",
      "Trainable params: 2\n",
      "Non-trainable params: 0\n",
      "_________________________________________________________________\n",
      "None\n",
      "Epoch 1/10\n",
      "WARNING:tensorflow:Model was constructed with shape (None, 8000, 1) for input KerasTensor(type_spec=TensorSpec(shape=(None, 8000, 1), dtype=tf.float32, name='input_3'), name='input_3', description=\"created by layer 'input_3'\"), but it was called on an input with incompatible shape (32, 1, 1).\n",
      "WARNING:tensorflow:Model was constructed with shape (None, 8000, 1) for input KerasTensor(type_spec=TensorSpec(shape=(None, 8000, 1), dtype=tf.float32, name='input_3'), name='input_3', description=\"created by layer 'input_3'\"), but it was called on an input with incompatible shape (32, 1, 1).\n",
      "250/250 [==============================] - 1s 1ms/step - loss: 1.9801\n",
      "Epoch 2/10\n",
      "250/250 [==============================] - 0s 1ms/step - loss: 0.9659\n",
      "Epoch 3/10\n",
      "250/250 [==============================] - 0s 1ms/step - loss: 0.9668\n",
      "Epoch 4/10\n",
      "250/250 [==============================] - 0s 1ms/step - loss: 0.9671\n",
      "Epoch 5/10\n",
      "250/250 [==============================] - 0s 2ms/step - loss: 0.9666\n",
      "Epoch 6/10\n",
      "250/250 [==============================] - 0s 1ms/step - loss: 0.9644\n",
      "Epoch 7/10\n",
      "250/250 [==============================] - 0s 1ms/step - loss: 0.9637\n",
      "Epoch 8/10\n",
      "250/250 [==============================] - 0s 1ms/step - loss: 0.9674\n",
      "Epoch 9/10\n",
      "250/250 [==============================] - 0s 1ms/step - loss: 0.9682\n",
      "Epoch 10/10\n",
      "250/250 [==============================] - 0s 1ms/step - loss: 0.9645\n"
     ]
    },
    {
     "data": {
      "text/plain": [
       "<keras.callbacks.History at 0x29de0e6a5f0>"
      ]
     },
     "execution_count": 155,
     "metadata": {},
     "output_type": "execute_result"
    }
   ],
   "source": [
    "inputs = keras.Input(shape=(x_train.shape))\n",
    "#l1 = layers.Dense(10, activation='relu', name='dense_1')(inputs)\n",
    "outputs = layers.Dense(1, name='regression')(inputs)\n",
    "\n",
    "model = keras.Model(inputs=inputs, outputs=outputs)\n",
    "print(model.summary())\n",
    "model.compile(loss='mse', optimizer=optimizers.SGD(0.1))\n",
    "\n",
    "model.fit(x_train,y_train, epochs=10,batch_size=32)\n",
    "\n",
    "\n",
    "\n",
    "\n"
   ]
  },
  {
   "cell_type": "code",
   "execution_count": 161,
   "metadata": {},
   "outputs": [
    {
     "data": {
      "text/plain": [
       "(100, 2)"
      ]
     },
     "execution_count": 161,
     "metadata": {},
     "output_type": "execute_result"
    }
   ],
   "source": [
    "x_train.shape\n",
    "x.shape"
   ]
  },
  {
   "cell_type": "code",
   "execution_count": 167,
   "metadata": {},
   "outputs": [
    {
     "name": "stdout",
     "output_type": "stream",
     "text": [
      "Model: \"model_7\"\n",
      "_________________________________________________________________\n",
      " Layer (type)                Output Shape              Param #   \n",
      "=================================================================\n",
      " input_10 (InputLayer)       [(None, 2)]               0         \n",
      "                                                                 \n",
      " regression (Dense)          (None, 1)                 3         \n",
      "                                                                 \n",
      "=================================================================\n",
      "Total params: 3\n",
      "Trainable params: 3\n",
      "Non-trainable params: 0\n",
      "_________________________________________________________________\n",
      "None\n"
     ]
    }
   ],
   "source": [
    "n = 100\n",
    "\n",
    "d = 2\n",
    "x = np.random.uniform(-1, 1, (n, d))\n",
    "\n",
    "# y = 5x + 10\n",
    "weights_true = np.array([[5],[5]])\n",
    "bias_true = np.array([10])\n",
    "\n",
    "y_true = x @ weights_true + bias_true\n",
    "#plt.scatter(x[:,0],y_true)\n",
    "\n",
    "\n",
    "inputs = keras.Input(shape=(x.shape[1],))\n",
    "#l1 = layers.Dense(10, activation='relu', name='dense_1')(inputs)\n",
    "outputs = layers.Dense(1, name='regression')(inputs)\n",
    "\n",
    "model = keras.Model(inputs=inputs, outputs=outputs)\n",
    "print(model.summary())\n",
    "model.compile(loss='mse', optimizer=optimizers.SGD(0.1))\n",
    "\n",
    "\n"
   ]
  },
  {
   "cell_type": "code",
   "execution_count": 168,
   "metadata": {},
   "outputs": [
    {
     "name": "stdout",
     "output_type": "stream",
     "text": [
      "Epoch 1/10\n",
      "4/4 [==============================] - 1s 6ms/step - loss: 75.7877\n",
      "Epoch 2/10\n",
      "4/4 [==============================] - 0s 3ms/step - loss: 18.0450\n",
      "Epoch 3/10\n",
      "4/4 [==============================] - 0s 3ms/step - loss: 7.1559\n",
      "Epoch 4/10\n",
      "4/4 [==============================] - 0s 4ms/step - loss: 3.8244\n",
      "Epoch 5/10\n",
      "4/4 [==============================] - 0s 2ms/step - loss: 2.2187\n",
      "Epoch 6/10\n",
      "4/4 [==============================] - 0s 2ms/step - loss: 1.1760\n",
      "Epoch 7/10\n",
      "4/4 [==============================] - 0s 2ms/step - loss: 0.6412\n",
      "Epoch 8/10\n",
      "4/4 [==============================] - 0s 2ms/step - loss: 0.3652\n",
      "Epoch 9/10\n",
      "4/4 [==============================] - 0s 6ms/step - loss: 0.2071\n",
      "Epoch 10/10\n",
      "4/4 [==============================] - 0s 4ms/step - loss: 0.1088\n"
     ]
    },
    {
     "data": {
      "text/plain": [
       "<keras.callbacks.History at 0x29de12583a0>"
      ]
     },
     "execution_count": 168,
     "metadata": {},
     "output_type": "execute_result"
    }
   ],
   "source": [
    "model.fit(x,y_true, epochs=10)"
   ]
  },
  {
   "cell_type": "code",
   "execution_count": null,
   "metadata": {},
   "outputs": [],
   "source": []
  }
 ],
 "metadata": {
  "kernelspec": {
   "display_name": "Python 3.10.5 64-bit",
   "language": "python",
   "name": "python3"
  },
  "language_info": {
   "codemirror_mode": {
    "name": "ipython",
    "version": 3
   },
   "file_extension": ".py",
   "mimetype": "text/x-python",
   "name": "python",
   "nbconvert_exporter": "python",
   "pygments_lexer": "ipython3",
   "version": "3.10.5"
  },
  "orig_nbformat": 4,
  "vscode": {
   "interpreter": {
    "hash": "c30d50df12e2ccfc06faccafb0acdb1a2da5363e814ef21e6c6a68595b7243a5"
   }
  }
 },
 "nbformat": 4,
 "nbformat_minor": 2
}
