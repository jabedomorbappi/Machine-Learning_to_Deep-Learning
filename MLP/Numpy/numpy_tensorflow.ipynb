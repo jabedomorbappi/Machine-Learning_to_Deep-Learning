{
 "cells": [
  {
   "cell_type": "code",
   "execution_count": 1,
   "metadata": {},
   "outputs": [
    {
     "name": "stderr",
     "output_type": "stream",
     "text": [
      "2022-10-02 22:19:08.864584: I tensorflow/core/platform/cpu_feature_guard.cc:193] This TensorFlow binary is optimized with oneAPI Deep Neural Network Library (oneDNN) to use the following CPU instructions in performance-critical operations:  AVX2 FMA\n",
      "To enable them in other operations, rebuild TensorFlow with the appropriate compiler flags.\n",
      "2022-10-02 22:19:15.241979: W tensorflow/stream_executor/platform/default/dso_loader.cc:64] Could not load dynamic library 'libcudart.so.11.0'; dlerror: libcudart.so.11.0: cannot open shared object file: No such file or directory\n",
      "2022-10-02 22:19:15.242026: I tensorflow/stream_executor/cuda/cudart_stub.cc:29] Ignore above cudart dlerror if you do not have a GPU set up on your machine.\n",
      "2022-10-02 22:19:15.752538: E tensorflow/stream_executor/cuda/cuda_blas.cc:2981] Unable to register cuBLAS factory: Attempting to register factory for plugin cuBLAS when one has already been registered\n",
      "2022-10-02 22:19:25.235533: W tensorflow/stream_executor/platform/default/dso_loader.cc:64] Could not load dynamic library 'libnvinfer.so.7'; dlerror: libnvinfer.so.7: cannot open shared object file: No such file or directory\n",
      "2022-10-02 22:19:25.236255: W tensorflow/stream_executor/platform/default/dso_loader.cc:64] Could not load dynamic library 'libnvinfer_plugin.so.7'; dlerror: libnvinfer_plugin.so.7: cannot open shared object file: No such file or directory\n",
      "2022-10-02 22:19:25.236291: W tensorflow/compiler/tf2tensorrt/utils/py_utils.cc:38] TF-TRT Warning: Cannot dlopen some TensorRT libraries. If you would like to use Nvidia GPU with TensorRT, please make sure the missing libraries mentioned above are installed properly.\n"
     ]
    }
   ],
   "source": [
    "import numpy as np \n",
    "import pandas as pd \n",
    "import matplotlib.pyplot as plt \n",
    "import torch \n",
    "import tensorflow as tf\n",
    "from sklearn.metrics import accuracy_score\n",
    "data=pd.read_csv('IRIS.csv')\n",
    "species=dict(zip(list(data['species'].unique()),([0,1,2])))\n",
    "data['species'].replace(species,inplace=True)\n",
    "y=data.pop('species')\n",
    "y_dummy=pd.get_dummies(y)\n",
    "y_dummy\n",
    "X=data.values\n"
   ]
  },
  {
   "cell_type": "code",
   "execution_count": 2,
   "metadata": {},
   "outputs": [
    {
     "name": "stderr",
     "output_type": "stream",
     "text": [
      "2022-10-02 22:19:33.138180: W tensorflow/stream_executor/platform/default/dso_loader.cc:64] Could not load dynamic library 'libcuda.so.1'; dlerror: libcuda.so.1: cannot open shared object file: No such file or directory\n",
      "2022-10-02 22:19:33.153908: W tensorflow/stream_executor/cuda/cuda_driver.cc:263] failed call to cuInit: UNKNOWN ERROR (303)\n",
      "2022-10-02 22:19:33.153976: I tensorflow/stream_executor/cuda/cuda_diagnostics.cc:156] kernel driver does not appear to be running on this host (jabed-HP-Notebook): /proc/driver/nvidia/version does not exist\n",
      "2022-10-02 22:19:33.194058: I tensorflow/core/platform/cpu_feature_guard.cc:193] This TensorFlow binary is optimized with oneAPI Deep Neural Network Library (oneDNN) to use the following CPU instructions in performance-critical operations:  AVX2 FMA\n",
      "To enable them in other operations, rebuild TensorFlow with the appropriate compiler flags.\n"
     ]
    },
    {
     "data": {
      "text/plain": [
       "tf.float64"
      ]
     },
     "execution_count": 2,
     "metadata": {},
     "output_type": "execute_result"
    }
   ],
   "source": [
    "X_train=tf.constant(X,dtype=tf.double)\n",
    "y_dummy=tf.constant(y_dummy)\n",
    "\n",
    "X_train.dtype"
   ]
  },
  {
   "cell_type": "code",
   "execution_count": null,
   "metadata": {},
   "outputs": [],
   "source": [
    "\n"
   ]
  },
  {
   "cell_type": "code",
   "execution_count": 3,
   "metadata": {},
   "outputs": [],
   "source": [
    "class Linear:\n",
    "    \n",
    "    def __init__(self,input_dim,units=3):\n",
    "        #super(Linear,self).__init__()\n",
    "        #self.weight=tf.Variable(np.random.randn(input_dim,units),trainable=True)\n",
    "        self.weight=tf.Variable(np.random.randn(shape=(input_dim,units)),dtype=tf.float64)\n",
    "        #self.bias=tf.Variable(np.zeros(units),trainable=True)\n",
    "        self.bias=tf.Variable(np.zeros(units),dtype=tf.float64)\n",
    "        \n",
    "    def __call__(self,xb):\n",
    "        self.x=tf.Variable(xb,dtype=tf.float64)\n",
    "        #return tf.matmul(xb,self.weight)+self.bias \n",
    "        return (xb@self.weight)+self.bias\n",
    "\n",
    "    def backward(self,dl_da):\n",
    "        try:\n",
    "                \n",
    "            # dl/da comes from loss class \n",
    "            # shape of dl-da is= nx1 \n",
    "            # shape of x is =nxd\n",
    "            # output must be as weight shape =dx1\n",
    "            # X.T shape is dxn \n",
    "            # out shape is of dl-dw = dxn * nx1=dx1\n",
    "            # weights shape=dx1   dl_da shape is nx1\n",
    "            #dl_da -(nx1) * transpose of weight (1xd) =nxd    dl_dx for mlp \n",
    "            self.dl_dw=self.x.T@dl_da\n",
    "            #print(dl_da.dtypes)\n",
    "            self.dl_db=dl_da.sum(axis=0)\n",
    "            self.dx=dl_da@ self.weight.T # nxd\n",
    "            return self.dx\n",
    "        except:\n",
    "            self.dl_dw=tf.transpose(self.x)@dl_da  \n",
    "            #print('dl_da',dl_da.dtype) \n",
    "            self.dl_db=tf.reduce_sum(dl_da)\n",
    "            self.dx=dl_da@(tf.transpose(self.weight))\n",
    "            return self.dx \n",
    "    def update(self,lr=0.001):\n",
    "\n",
    "\n",
    "        print(self.weight)\n",
    "        #print('dl_dw',self.dl_dw.dtype)\n",
    "        self.weight=self.weight+lr*self.dl_dw\n",
    "        self.bias=self.bias+lr*self.dl_db\n",
    "        #print(self.weight)\n",
    "\n",
    "        "
   ]
  },
  {
   "cell_type": "code",
   "execution_count": null,
   "metadata": {},
   "outputs": [],
   "source": [
    "\n"
   ]
  },
  {
   "cell_type": "code",
   "execution_count": 4,
   "metadata": {},
   "outputs": [],
   "source": [
    "class softmax:\n",
    "    def __call__(self,Z):\n",
    "        self.z=Z\n",
    "        z=np.exp(Z-np.max(Z))\n",
    "        self.out=z/z.sum(axis=0,keepdims=True)\n",
    "        return self.out\n",
    "    def backward(self,dl):\n",
    "        self.Z=tf.Variable(self.z)\n",
    "        with tf.GradientTape() as tape:\n",
    "            s=tf.nn.softmax(self.Z)\n",
    "        soft_grad=tape.gradient(s,self.Z)\n",
    "        return soft_grad*dl     \n"
   ]
  },
  {
   "cell_type": "code",
   "execution_count": 5,
   "metadata": {},
   "outputs": [],
   "source": [
    "class crossentropy:\n",
    "    def __call__(self,y_true,y_pred):\n",
    "        \n",
    "        self.y_true=y_true\n",
    "        self.y_pred=tf.Variable(y_pred)\n",
    "        self.loss=tf.reduce_mean(tf.losses.categorical_crossentropy(y_true,y_pred))\n",
    "        return self.loss\n",
    "    def backward(self):\n",
    "        with tf.GradientTape() as tape:\n",
    "\n",
    "            losses=tf.reduce_mean(tf.losses.categorical_crossentropy(self.y_true,self.y_pred))\n",
    "        dl_da=tape.gradient(losses,self.y_pred)\n",
    "        return dl_da    \n",
    "        \n",
    "\n"
   ]
  },
  {
   "cell_type": "code",
   "execution_count": null,
   "metadata": {},
   "outputs": [],
   "source": []
  },
  {
   "cell_type": "code",
   "execution_count": 6,
   "metadata": {},
   "outputs": [
    {
     "ename": "NameError",
     "evalue": "name 'linear' is not defined",
     "output_type": "error",
     "traceback": [
      "\u001b[0;31m---------------------------------------------------------------------------\u001b[0m",
      "\u001b[0;31mNameError\u001b[0m                                 Traceback (most recent call last)",
      "Cell \u001b[0;32mIn [6], line 4\u001b[0m\n\u001b[1;32m      1\u001b[0m \u001b[38;5;28;01mfor\u001b[39;00m epoch \u001b[38;5;129;01min\u001b[39;00m \u001b[38;5;28mrange\u001b[39m(\u001b[38;5;241m100\u001b[39m):\n\u001b[0;32m----> 4\u001b[0m     Z\u001b[38;5;241m=\u001b[39m\u001b[43mlinear\u001b[49m(X_train)\n\u001b[1;32m      5\u001b[0m     soft\u001b[38;5;241m=\u001b[39msoftmax()\n\u001b[1;32m      6\u001b[0m     y_pred\u001b[38;5;241m=\u001b[39msoft(Z)\n",
      "\u001b[0;31mNameError\u001b[0m: name 'linear' is not defined"
     ]
    }
   ],
   "source": [
    "\n",
    "for epoch in range(100):\n",
    "\n",
    "    \n",
    "    Z=linear(X_train)\n",
    "    soft=softmax()\n",
    "    y_pred=soft(Z)\n",
    "    los=crossentropy()\n",
    "    los(y_dummy,y_pred)\n",
    "    dl=los.backward()\n",
    "    ds=soft.backward(dl)\n",
    "    linear_grad=linear.backward(ds)\n",
    "    linear.update()\n",
    "\n",
    "    \n",
    "\n",
    "   \n",
    "  \n",
    "\n",
    "\n"
   ]
  },
  {
   "cell_type": "code",
   "execution_count": null,
   "metadata": {},
   "outputs": [],
   "source": [
    "'''y_pred=tf.Variable(y_pred)\n",
    "with tf.GradientTape() as tape:\n",
    "    losses=tf.reduce_sum(loss(y_dummy,y_pred))\n",
    "dl=tape.gradient(losses,y_pred)    \n",
    "\n",
    "'''"
   ]
  },
  {
   "cell_type": "code",
   "execution_count": null,
   "metadata": {},
   "outputs": [],
   "source": [
    "linear.weight.dtype\n",
    "linear_grad.dtype"
   ]
  },
  {
   "cell_type": "code",
   "execution_count": null,
   "metadata": {},
   "outputs": [],
   "source": []
  },
  {
   "cell_type": "code",
   "execution_count": null,
   "metadata": {},
   "outputs": [],
   "source": []
  },
  {
   "cell_type": "code",
   "execution_count": null,
   "metadata": {},
   "outputs": [],
   "source": []
  },
  {
   "cell_type": "code",
   "execution_count": null,
   "metadata": {},
   "outputs": [],
   "source": []
  },
  {
   "cell_type": "code",
   "execution_count": null,
   "metadata": {},
   "outputs": [],
   "source": []
  },
  {
   "cell_type": "code",
   "execution_count": null,
   "metadata": {},
   "outputs": [],
   "source": []
  }
 ],
 "metadata": {
  "interpreter": {
   "hash": "31f2aee4e71d21fbe5cf8b01ff0e069b9275f58929596ceb00d14d90e3e16cd6"
  },
  "kernelspec": {
   "display_name": "Python 3.8.10 64-bit",
   "language": "python",
   "name": "python3"
  },
  "language_info": {
   "codemirror_mode": {
    "name": "ipython",
    "version": 3
   },
   "file_extension": ".py",
   "mimetype": "text/x-python",
   "name": "python",
   "nbconvert_exporter": "python",
   "pygments_lexer": "ipython3",
   "version": "3.8.10"
  },
  "orig_nbformat": 4
 },
 "nbformat": 4,
 "nbformat_minor": 2
}
