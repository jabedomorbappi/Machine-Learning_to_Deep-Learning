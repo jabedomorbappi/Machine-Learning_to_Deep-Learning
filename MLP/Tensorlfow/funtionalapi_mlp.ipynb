{
 "cells": [
  {
   "cell_type": "code",
   "execution_count": 25,
   "metadata": {},
   "outputs": [],
   "source": [
    "import numpy as np \n",
    "import pandas as pd \n",
    "import matplotlib.pyplot as plt\n",
    "import tensorflow as tf \n",
    "\n",
    "from sklearn.preprocessing import StandardScaler\n",
    "from sklearn.model_selection import train_test_split\n",
    "import time\n",
    "from tensorflow.keras.models import Sequential\n",
    "from tensorflow.keras.layers import Dense\n"
   ]
  },
  {
   "cell_type": "code",
   "execution_count": 26,
   "metadata": {},
   "outputs": [],
   "source": [
    "data=pd.read_csv('IRIS.csv')\n",
    "#Y=data.pop('species')\n",
    "species=dict(zip(list(data['species'].unique()), ([0, 1, 2])))\n",
    "\n",
    "data['species'].replace(species,inplace=True)\n",
    "Y=data.pop('species')\n",
    "X=data.values\n",
    "y_dummy=pd.get_dummies(Y)\n"
   ]
  },
  {
   "cell_type": "code",
   "execution_count": 27,
   "metadata": {},
   "outputs": [],
   "source": [
    "X_train,X_test,y_train,y_test=train_test_split(X,y_dummy)\n"
   ]
  },
  {
   "cell_type": "code",
   "execution_count": 28,
   "metadata": {},
   "outputs": [],
   "source": [
    "inputs=tf.keras.Input(shape=X.shape[1])\n",
    "layer1=tf.keras.layers.Dense(32,activation='relu')(inputs)\n",
    "layer2=tf.keras.layers.Dense(64,activation='relu')(layer1)\n",
    "layer3=tf.keras.layers.Dense(64,activation='relu')(layer2)\n",
    "outputs=tf.keras.layers.Dense(3,activation='softmax')(layer3)\n",
    "model=tf.keras.Model(inputs=inputs,outputs=outputs)\n",
    "model.compile(optimizer='adam',loss='binary_crossentropy',metrics=['acc'])"
   ]
  },
  {
   "cell_type": "code",
   "execution_count": 29,
   "metadata": {},
   "outputs": [
    {
     "name": "stdout",
     "output_type": "stream",
     "text": [
      "Model: \"model_2\"\n",
      "_________________________________________________________________\n",
      " Layer (type)                Output Shape              Param #   \n",
      "=================================================================\n",
      " input_3 (InputLayer)        [(None, 4)]               0         \n",
      "                                                                 \n",
      " dense_8 (Dense)             (None, 32)                160       \n",
      "                                                                 \n",
      " dense_9 (Dense)             (None, 64)                2112      \n",
      "                                                                 \n",
      " dense_10 (Dense)            (None, 64)                4160      \n",
      "                                                                 \n",
      " dense_11 (Dense)            (None, 3)                 195       \n",
      "                                                                 \n",
      "=================================================================\n",
      "Total params: 6,627\n",
      "Trainable params: 6,627\n",
      "Non-trainable params: 0\n",
      "_________________________________________________________________\n"
     ]
    }
   ],
   "source": [
    "model.summary()"
   ]
  },
  {
   "cell_type": "code",
   "execution_count": 30,
   "metadata": {},
   "outputs": [
    {
     "name": "stdout",
     "output_type": "stream",
     "text": [
      "Epoch 1/100\n",
      "5/5 [==============================] - 2s 92ms/step - loss: 0.7129 - acc: 0.1000 - val_loss: 0.6582 - val_acc: 0.3158\n",
      "Epoch 2/100\n",
      "5/5 [==============================] - 0s 17ms/step - loss: 0.6420 - acc: 0.3333 - val_loss: 0.6199 - val_acc: 0.3158\n",
      "Epoch 3/100\n",
      "5/5 [==============================] - 0s 18ms/step - loss: 0.6059 - acc: 0.3333 - val_loss: 0.5940 - val_acc: 0.3158\n",
      "Epoch 4/100\n",
      "5/5 [==============================] - 0s 18ms/step - loss: 0.5789 - acc: 0.3600 - val_loss: 0.5707 - val_acc: 0.5000\n",
      "Epoch 5/100\n",
      "5/5 [==============================] - 0s 18ms/step - loss: 0.5567 - acc: 0.6533 - val_loss: 0.5454 - val_acc: 0.6842\n",
      "Epoch 6/100\n",
      "5/5 [==============================] - 0s 17ms/step - loss: 0.5324 - acc: 0.6667 - val_loss: 0.5178 - val_acc: 0.6842\n",
      "Epoch 7/100\n",
      "5/5 [==============================] - 0s 20ms/step - loss: 0.5044 - acc: 0.6667 - val_loss: 0.4892 - val_acc: 0.6842\n",
      "Epoch 8/100\n",
      "5/5 [==============================] - 0s 20ms/step - loss: 0.4749 - acc: 0.6667 - val_loss: 0.4559 - val_acc: 0.6842\n",
      "Epoch 9/100\n",
      "5/5 [==============================] - 0s 25ms/step - loss: 0.4427 - acc: 0.6667 - val_loss: 0.4233 - val_acc: 0.6842\n",
      "Epoch 10/100\n",
      "5/5 [==============================] - 0s 20ms/step - loss: 0.4122 - acc: 0.6667 - val_loss: 0.3917 - val_acc: 0.6842\n",
      "Epoch 11/100\n",
      "5/5 [==============================] - 0s 17ms/step - loss: 0.3842 - acc: 0.6667 - val_loss: 0.3640 - val_acc: 0.6842\n",
      "Epoch 12/100\n",
      "5/5 [==============================] - 0s 17ms/step - loss: 0.3590 - acc: 0.6667 - val_loss: 0.3411 - val_acc: 0.6842\n",
      "Epoch 13/100\n",
      "5/5 [==============================] - 0s 16ms/step - loss: 0.3373 - acc: 0.6733 - val_loss: 0.3196 - val_acc: 0.7105\n",
      "Epoch 14/100\n",
      "5/5 [==============================] - 0s 16ms/step - loss: 0.3197 - acc: 0.6933 - val_loss: 0.3035 - val_acc: 0.7105\n",
      "Epoch 15/100\n",
      "5/5 [==============================] - 0s 23ms/step - loss: 0.3042 - acc: 0.7267 - val_loss: 0.2905 - val_acc: 0.7368\n",
      "Epoch 16/100\n",
      "5/5 [==============================] - 0s 23ms/step - loss: 0.2924 - acc: 0.8200 - val_loss: 0.2799 - val_acc: 0.8158\n",
      "Epoch 17/100\n",
      "5/5 [==============================] - 0s 15ms/step - loss: 0.2818 - acc: 0.8600 - val_loss: 0.2710 - val_acc: 0.8158\n",
      "Epoch 18/100\n",
      "5/5 [==============================] - 0s 24ms/step - loss: 0.2715 - acc: 0.9200 - val_loss: 0.2594 - val_acc: 0.9474\n",
      "Epoch 19/100\n",
      "5/5 [==============================] - 0s 17ms/step - loss: 0.2581 - acc: 0.9133 - val_loss: 0.2510 - val_acc: 0.8684\n",
      "Epoch 20/100\n",
      "5/5 [==============================] - 0s 17ms/step - loss: 0.2478 - acc: 0.9067 - val_loss: 0.2393 - val_acc: 0.9211\n",
      "Epoch 21/100\n",
      "5/5 [==============================] - 0s 16ms/step - loss: 0.2354 - acc: 0.9600 - val_loss: 0.2283 - val_acc: 0.9737\n",
      "Epoch 22/100\n",
      "5/5 [==============================] - 0s 18ms/step - loss: 0.2252 - acc: 0.9533 - val_loss: 0.2197 - val_acc: 0.9474\n",
      "Epoch 23/100\n",
      "5/5 [==============================] - 0s 18ms/step - loss: 0.2122 - acc: 0.9667 - val_loss: 0.2105 - val_acc: 0.9737\n",
      "Epoch 24/100\n",
      "5/5 [==============================] - 0s 16ms/step - loss: 0.2031 - acc: 0.9800 - val_loss: 0.2018 - val_acc: 0.9737\n",
      "Epoch 25/100\n",
      "5/5 [==============================] - 0s 17ms/step - loss: 0.1924 - acc: 0.9667 - val_loss: 0.1936 - val_acc: 0.9737\n",
      "Epoch 26/100\n",
      "5/5 [==============================] - 0s 19ms/step - loss: 0.1812 - acc: 0.9800 - val_loss: 0.1837 - val_acc: 0.9737\n",
      "Epoch 27/100\n",
      "5/5 [==============================] - 0s 18ms/step - loss: 0.1715 - acc: 0.9800 - val_loss: 0.1755 - val_acc: 0.9737\n",
      "Epoch 28/100\n",
      "5/5 [==============================] - 0s 18ms/step - loss: 0.1614 - acc: 0.9733 - val_loss: 0.1662 - val_acc: 0.9737\n",
      "Epoch 29/100\n",
      "5/5 [==============================] - 0s 17ms/step - loss: 0.1520 - acc: 0.9733 - val_loss: 0.1582 - val_acc: 0.9737\n",
      "Epoch 30/100\n",
      "5/5 [==============================] - 0s 18ms/step - loss: 0.1456 - acc: 0.9600 - val_loss: 0.1502 - val_acc: 0.9737\n",
      "Epoch 31/100\n",
      "5/5 [==============================] - 0s 17ms/step - loss: 0.1297 - acc: 0.9800 - val_loss: 0.1509 - val_acc: 0.9474\n",
      "Epoch 32/100\n",
      "5/5 [==============================] - 0s 17ms/step - loss: 0.1284 - acc: 0.9600 - val_loss: 0.1365 - val_acc: 0.9737\n",
      "Epoch 33/100\n",
      "5/5 [==============================] - 0s 17ms/step - loss: 0.1173 - acc: 0.9733 - val_loss: 0.1311 - val_acc: 0.9737\n",
      "Epoch 34/100\n",
      "5/5 [==============================] - 0s 18ms/step - loss: 0.1105 - acc: 0.9800 - val_loss: 0.1249 - val_acc: 0.9737\n",
      "Epoch 35/100\n",
      "5/5 [==============================] - 0s 17ms/step - loss: 0.1051 - acc: 0.9733 - val_loss: 0.1217 - val_acc: 0.9737\n",
      "Epoch 36/100\n",
      "5/5 [==============================] - 0s 17ms/step - loss: 0.0973 - acc: 0.9800 - val_loss: 0.1151 - val_acc: 0.9737\n",
      "Epoch 37/100\n",
      "5/5 [==============================] - 0s 17ms/step - loss: 0.0972 - acc: 0.9667 - val_loss: 0.1111 - val_acc: 0.9737\n",
      "Epoch 38/100\n",
      "5/5 [==============================] - 0s 18ms/step - loss: 0.0899 - acc: 0.9733 - val_loss: 0.1081 - val_acc: 0.9737\n",
      "Epoch 39/100\n",
      "5/5 [==============================] - 0s 16ms/step - loss: 0.0862 - acc: 0.9733 - val_loss: 0.1053 - val_acc: 0.9474\n",
      "Epoch 40/100\n",
      "5/5 [==============================] - 0s 17ms/step - loss: 0.0797 - acc: 0.9867 - val_loss: 0.1095 - val_acc: 0.9737\n",
      "Epoch 41/100\n",
      "5/5 [==============================] - 0s 17ms/step - loss: 0.0818 - acc: 0.9733 - val_loss: 0.0983 - val_acc: 0.9737\n",
      "Epoch 42/100\n",
      "5/5 [==============================] - 0s 18ms/step - loss: 0.0829 - acc: 0.9533 - val_loss: 0.0964 - val_acc: 0.9737\n",
      "Epoch 43/100\n",
      "5/5 [==============================] - 0s 21ms/step - loss: 0.0749 - acc: 0.9800 - val_loss: 0.1059 - val_acc: 0.9737\n",
      "Epoch 44/100\n",
      "5/5 [==============================] - 0s 28ms/step - loss: 0.0692 - acc: 0.9733 - val_loss: 0.0937 - val_acc: 0.9474\n",
      "Epoch 45/100\n",
      "5/5 [==============================] - 0s 28ms/step - loss: 0.0728 - acc: 0.9733 - val_loss: 0.0907 - val_acc: 0.9737\n",
      "Epoch 46/100\n",
      "5/5 [==============================] - 0s 27ms/step - loss: 0.0654 - acc: 0.9800 - val_loss: 0.0892 - val_acc: 0.9737\n",
      "Epoch 47/100\n",
      "5/5 [==============================] - 0s 42ms/step - loss: 0.0708 - acc: 0.9467 - val_loss: 0.0878 - val_acc: 0.9737\n",
      "Epoch 48/100\n",
      "5/5 [==============================] - 0s 28ms/step - loss: 0.0607 - acc: 0.9733 - val_loss: 0.0902 - val_acc: 0.9737\n",
      "Epoch 49/100\n",
      "5/5 [==============================] - 0s 23ms/step - loss: 0.0627 - acc: 0.9733 - val_loss: 0.0851 - val_acc: 0.9737\n",
      "Epoch 50/100\n",
      "5/5 [==============================] - 0s 23ms/step - loss: 0.0618 - acc: 0.9800 - val_loss: 0.0845 - val_acc: 0.9737\n",
      "Epoch 51/100\n",
      "5/5 [==============================] - 0s 28ms/step - loss: 0.0589 - acc: 0.9733 - val_loss: 0.0844 - val_acc: 0.9737\n",
      "Epoch 52/100\n",
      "5/5 [==============================] - 0s 26ms/step - loss: 0.0566 - acc: 0.9733 - val_loss: 0.0827 - val_acc: 0.9737\n",
      "Epoch 53/100\n",
      "5/5 [==============================] - 0s 22ms/step - loss: 0.0559 - acc: 0.9867 - val_loss: 0.0818 - val_acc: 0.9737\n",
      "Epoch 54/100\n",
      "5/5 [==============================] - 0s 25ms/step - loss: 0.0562 - acc: 0.9800 - val_loss: 0.0819 - val_acc: 0.9737\n",
      "Epoch 55/100\n",
      "5/5 [==============================] - 0s 30ms/step - loss: 0.0569 - acc: 0.9733 - val_loss: 0.0829 - val_acc: 0.9737\n",
      "Epoch 56/100\n",
      "5/5 [==============================] - 0s 28ms/step - loss: 0.0525 - acc: 0.9733 - val_loss: 0.0799 - val_acc: 0.9737\n",
      "Epoch 57/100\n",
      "5/5 [==============================] - 0s 33ms/step - loss: 0.0551 - acc: 0.9867 - val_loss: 0.0793 - val_acc: 0.9737\n",
      "Epoch 58/100\n",
      "5/5 [==============================] - 0s 27ms/step - loss: 0.0522 - acc: 0.9800 - val_loss: 0.0794 - val_acc: 0.9737\n",
      "Epoch 59/100\n",
      "5/5 [==============================] - 0s 28ms/step - loss: 0.0541 - acc: 0.9800 - val_loss: 0.0830 - val_acc: 0.9737\n",
      "Epoch 60/100\n",
      "5/5 [==============================] - 0s 23ms/step - loss: 0.0491 - acc: 0.9800 - val_loss: 0.0789 - val_acc: 0.9737\n",
      "Epoch 61/100\n",
      "5/5 [==============================] - 0s 25ms/step - loss: 0.0502 - acc: 0.9800 - val_loss: 0.0784 - val_acc: 0.9737\n",
      "Epoch 62/100\n",
      "5/5 [==============================] - 0s 29ms/step - loss: 0.0508 - acc: 0.9800 - val_loss: 0.0789 - val_acc: 0.9737\n",
      "Epoch 63/100\n",
      "5/5 [==============================] - 0s 23ms/step - loss: 0.0482 - acc: 0.9800 - val_loss: 0.0774 - val_acc: 0.9737\n",
      "Epoch 64/100\n",
      "5/5 [==============================] - 0s 27ms/step - loss: 0.0495 - acc: 0.9733 - val_loss: 0.0774 - val_acc: 0.9737\n",
      "Epoch 65/100\n",
      "5/5 [==============================] - 0s 26ms/step - loss: 0.0471 - acc: 0.9933 - val_loss: 0.0774 - val_acc: 0.9737\n",
      "Epoch 66/100\n",
      "5/5 [==============================] - 0s 25ms/step - loss: 0.0507 - acc: 0.9867 - val_loss: 0.0788 - val_acc: 0.9737\n",
      "Epoch 67/100\n",
      "5/5 [==============================] - 0s 21ms/step - loss: 0.0461 - acc: 0.9867 - val_loss: 0.0765 - val_acc: 0.9737\n",
      "Epoch 68/100\n",
      "5/5 [==============================] - 0s 20ms/step - loss: 0.0479 - acc: 0.9800 - val_loss: 0.0760 - val_acc: 0.9737\n",
      "Epoch 69/100\n",
      "5/5 [==============================] - 0s 22ms/step - loss: 0.0454 - acc: 0.9800 - val_loss: 0.0774 - val_acc: 0.9737\n",
      "Epoch 70/100\n",
      "5/5 [==============================] - 0s 20ms/step - loss: 0.0464 - acc: 0.9733 - val_loss: 0.0757 - val_acc: 0.9737\n",
      "Epoch 71/100\n",
      "5/5 [==============================] - 0s 20ms/step - loss: 0.0448 - acc: 0.9800 - val_loss: 0.0755 - val_acc: 0.9737\n",
      "Epoch 72/100\n",
      "5/5 [==============================] - 0s 26ms/step - loss: 0.0458 - acc: 0.9800 - val_loss: 0.0759 - val_acc: 0.9737\n",
      "Epoch 73/100\n",
      "5/5 [==============================] - 0s 26ms/step - loss: 0.0447 - acc: 0.9800 - val_loss: 0.0756 - val_acc: 0.9737\n",
      "Epoch 74/100\n",
      "5/5 [==============================] - 0s 24ms/step - loss: 0.0462 - acc: 0.9800 - val_loss: 0.0751 - val_acc: 0.9737\n",
      "Epoch 75/100\n",
      "5/5 [==============================] - 0s 23ms/step - loss: 0.0440 - acc: 0.9800 - val_loss: 0.0754 - val_acc: 0.9737\n",
      "Epoch 76/100\n",
      "5/5 [==============================] - 0s 23ms/step - loss: 0.0444 - acc: 0.9800 - val_loss: 0.0748 - val_acc: 0.9737\n",
      "Epoch 77/100\n",
      "5/5 [==============================] - 0s 42ms/step - loss: 0.0438 - acc: 0.9733 - val_loss: 0.0761 - val_acc: 0.9737\n",
      "Epoch 78/100\n",
      "5/5 [==============================] - 0s 24ms/step - loss: 0.0422 - acc: 0.9800 - val_loss: 0.0746 - val_acc: 0.9737\n",
      "Epoch 79/100\n",
      "5/5 [==============================] - 0s 24ms/step - loss: 0.0444 - acc: 0.9800 - val_loss: 0.0749 - val_acc: 0.9737\n",
      "Epoch 80/100\n",
      "5/5 [==============================] - 0s 25ms/step - loss: 0.0432 - acc: 0.9867 - val_loss: 0.0772 - val_acc: 0.9737\n",
      "Epoch 81/100\n",
      "5/5 [==============================] - 0s 25ms/step - loss: 0.0431 - acc: 0.9800 - val_loss: 0.0743 - val_acc: 0.9737\n",
      "Epoch 82/100\n",
      "5/5 [==============================] - 0s 26ms/step - loss: 0.0420 - acc: 0.9800 - val_loss: 0.0749 - val_acc: 0.9737\n",
      "Epoch 83/100\n",
      "5/5 [==============================] - 0s 22ms/step - loss: 0.0429 - acc: 0.9800 - val_loss: 0.0755 - val_acc: 0.9737\n",
      "Epoch 84/100\n",
      "5/5 [==============================] - 0s 23ms/step - loss: 0.0417 - acc: 0.9800 - val_loss: 0.0742 - val_acc: 0.9737\n",
      "Epoch 85/100\n",
      "5/5 [==============================] - 0s 27ms/step - loss: 0.0416 - acc: 0.9867 - val_loss: 0.0738 - val_acc: 0.9737\n",
      "Epoch 86/100\n",
      "5/5 [==============================] - 0s 32ms/step - loss: 0.0413 - acc: 0.9800 - val_loss: 0.0753 - val_acc: 0.9737\n",
      "Epoch 87/100\n",
      "5/5 [==============================] - 0s 31ms/step - loss: 0.0410 - acc: 0.9800 - val_loss: 0.0743 - val_acc: 0.9737\n",
      "Epoch 88/100\n",
      "5/5 [==============================] - 0s 26ms/step - loss: 0.0416 - acc: 0.9800 - val_loss: 0.0739 - val_acc: 0.9737\n",
      "Epoch 89/100\n",
      "5/5 [==============================] - 0s 30ms/step - loss: 0.0413 - acc: 0.9800 - val_loss: 0.0755 - val_acc: 0.9737\n",
      "Epoch 90/100\n",
      "5/5 [==============================] - 0s 25ms/step - loss: 0.0409 - acc: 0.9800 - val_loss: 0.0749 - val_acc: 0.9737\n",
      "Epoch 91/100\n",
      "5/5 [==============================] - 0s 20ms/step - loss: 0.0414 - acc: 0.9867 - val_loss: 0.0739 - val_acc: 0.9737\n",
      "Epoch 92/100\n",
      "5/5 [==============================] - 0s 20ms/step - loss: 0.0409 - acc: 0.9800 - val_loss: 0.0763 - val_acc: 0.9737\n",
      "Epoch 93/100\n",
      "5/5 [==============================] - 0s 21ms/step - loss: 0.0407 - acc: 0.9800 - val_loss: 0.0736 - val_acc: 0.9737\n",
      "Epoch 94/100\n",
      "5/5 [==============================] - 0s 20ms/step - loss: 0.0417 - acc: 0.9867 - val_loss: 0.0740 - val_acc: 0.9737\n",
      "Epoch 95/100\n",
      "5/5 [==============================] - 0s 21ms/step - loss: 0.0398 - acc: 0.9800 - val_loss: 0.0735 - val_acc: 0.9737\n",
      "Epoch 96/100\n",
      "5/5 [==============================] - 0s 28ms/step - loss: 0.0414 - acc: 0.9733 - val_loss: 0.0737 - val_acc: 0.9737\n",
      "Epoch 97/100\n",
      "5/5 [==============================] - 0s 44ms/step - loss: 0.0390 - acc: 0.9933 - val_loss: 0.0736 - val_acc: 0.9737\n",
      "Epoch 98/100\n",
      "5/5 [==============================] - 0s 39ms/step - loss: 0.0399 - acc: 0.9800 - val_loss: 0.0737 - val_acc: 0.9737\n",
      "Epoch 99/100\n",
      "5/5 [==============================] - 0s 32ms/step - loss: 0.0394 - acc: 0.9800 - val_loss: 0.0738 - val_acc: 0.9737\n",
      "Epoch 100/100\n",
      "5/5 [==============================] - 0s 27ms/step - loss: 0.0398 - acc: 0.9800 - val_loss: 0.0736 - val_acc: 0.9737\n"
     ]
    },
    {
     "data": {
      "text/plain": [
       "<keras.callbacks.History at 0x7f2f8695a580>"
      ]
     },
     "execution_count": 30,
     "metadata": {},
     "output_type": "execute_result"
    }
   ],
   "source": [
    "model.fit(X,y_dummy,epochs=100,validation_data=(X_test,y_test))"
   ]
  },
  {
   "cell_type": "code",
   "execution_count": 31,
   "metadata": {},
   "outputs": [
    {
     "name": "stdout",
     "output_type": "stream",
     "text": [
      "2/2 [==============================] - 0s 4ms/step\n"
     ]
    },
    {
     "data": {
      "text/plain": [
       "<tf.Tensor: shape=(38,), dtype=int64, numpy=\n",
       "array([2, 2, 0, 0, 1, 1, 1, 2, 0, 0, 2, 1, 1, 2, 1, 1, 0, 2, 0, 2, 0, 1,\n",
       "       0, 2, 0, 0, 0, 1, 0, 0, 2, 0, 2, 1, 2, 2, 1, 2])>"
      ]
     },
     "execution_count": 31,
     "metadata": {},
     "output_type": "execute_result"
    }
   ],
   "source": [
    "tf.argmax(model.predict(X_test),axis=1)"
   ]
  },
  {
   "cell_type": "code",
   "execution_count": 32,
   "metadata": {},
   "outputs": [
    {
     "data": {
      "text/plain": [
       "<tf.Tensor: shape=(38,), dtype=int64, numpy=\n",
       "array([2, 2, 0, 0, 1, 1, 1, 1, 0, 0, 2, 1, 1, 2, 1, 1, 0, 2, 0, 2, 0, 1,\n",
       "       0, 2, 0, 0, 0, 1, 0, 0, 2, 0, 2, 1, 2, 2, 1, 2])>"
      ]
     },
     "execution_count": 32,
     "metadata": {},
     "output_type": "execute_result"
    }
   ],
   "source": [
    "tf.argmax(y_test,axis=1)"
   ]
  },
  {
   "cell_type": "code",
   "execution_count": null,
   "metadata": {},
   "outputs": [],
   "source": []
  }
 ],
 "metadata": {
  "interpreter": {
   "hash": "31f2aee4e71d21fbe5cf8b01ff0e069b9275f58929596ceb00d14d90e3e16cd6"
  },
  "kernelspec": {
   "display_name": "Python 3.8.10 64-bit",
   "language": "python",
   "name": "python3"
  },
  "language_info": {
   "codemirror_mode": {
    "name": "ipython",
    "version": 3
   },
   "file_extension": ".py",
   "mimetype": "text/x-python",
   "name": "python",
   "nbconvert_exporter": "python",
   "pygments_lexer": "ipython3",
   "version": "3.8.10"
  },
  "orig_nbformat": 4
 },
 "nbformat": 4,
 "nbformat_minor": 2
}
