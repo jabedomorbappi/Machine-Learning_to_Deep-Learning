{
 "cells": [
  {
   "cell_type": "code",
   "execution_count": 3,
   "metadata": {},
   "outputs": [],
   "source": [
    "import numpy as np  \n",
    "import pandas as pd \n",
    "\n"
   ]
  },
  {
   "cell_type": "code",
   "execution_count": 4,
   "metadata": {},
   "outputs": [],
   "source": [
    "X_train = np.array([[1,1,1],[1,0,1],[1,0,0],[1,0,0],[1,1,1],[0,1,1],[0,0,0],[1,0,1],[0,1,0],[1,0,0]])\n",
    "y_train = np.array([1,1,0,0,1,0,0,1,1,0])\n"
   ]
  },
  {
   "cell_type": "code",
   "execution_count": 5,
   "metadata": {},
   "outputs": [],
   "source": [
    "def compute_entropy(y):\n",
    "    entropy=0\n",
    "    if len(y)!=0:\n",
    "        p1=len(y[y==1])/len(y)\n",
    "        \n",
    "        if p1 !=0 and p1 !=1:\n",
    "            entropy=-p1*np.log2(p1)-(1-p1)*np.log2(1-p1)\n",
    "        else:\n",
    "            entropy=0\n",
    "    return entropy            "
   ]
  },
  {
   "cell_type": "code",
   "execution_count": 6,
   "metadata": {},
   "outputs": [
    {
     "data": {
      "text/plain": [
       "1.0"
      ]
     },
     "execution_count": 6,
     "metadata": {},
     "output_type": "execute_result"
    }
   ],
   "source": [
    "compute_entropy(y_train)"
   ]
  },
  {
   "cell_type": "code",
   "execution_count": 26,
   "metadata": {},
   "outputs": [],
   "source": [
    "def Entropy(y_train):\n",
    "    counts=np.bincount(y_train)\n",
    "\n",
    "    p=counts/len(y_train)\n",
    "    return -np.sum(p*np.log2(p))"
   ]
  },
  {
   "cell_type": "markdown",
   "metadata": {},
   "source": [
    "split_dataset"
   ]
  },
  {
   "cell_type": "code",
   "execution_count": 30,
   "metadata": {},
   "outputs": [
    {
     "name": "stdout",
     "output_type": "stream",
     "text": [
      "0\n",
      "1\n",
      "2\n",
      "3\n",
      "4\n",
      "5\n",
      "6\n",
      "7\n",
      "8\n",
      "9\n"
     ]
    }
   ],
   "source": [
    "\n",
    "for i in np.arange(len(y_train)):\n",
    "    \n",
    "    print(i)"
   ]
  },
  {
   "cell_type": "code",
   "execution_count": 8,
   "metadata": {},
   "outputs": [
    {
     "data": {
      "text/plain": [
       "[0, 1, 2, 3, 4, 7, 9]"
      ]
     },
     "execution_count": 8,
     "metadata": {},
     "output_type": "execute_result"
    }
   ],
   "source": []
  },
  {
   "cell_type": "code",
   "execution_count": 9,
   "metadata": {},
   "outputs": [
    {
     "data": {
      "text/plain": [
       "[5, 6, 8]"
      ]
     },
     "execution_count": 9,
     "metadata": {},
     "output_type": "execute_result"
    }
   ],
   "source": []
  },
  {
   "cell_type": "code",
   "execution_count": 10,
   "metadata": {},
   "outputs": [],
   "source": [
    "root_indices = [0, 1, 2, 3, 4, 5, 6, 7, 8, 9]\n",
    "\n",
    "feature=0"
   ]
  },
  {
   "cell_type": "code",
   "execution_count": 29,
   "metadata": {},
   "outputs": [
    {
     "data": {
      "text/plain": [
       "array([0, 1, 2, 3, 4, 5, 6, 7, 8, 9])"
      ]
     },
     "execution_count": 29,
     "metadata": {},
     "output_type": "execute_result"
    }
   ],
   "source": []
  },
  {
   "cell_type": "code",
   "execution_count": 11,
   "metadata": {},
   "outputs": [],
   "source": [
    "def split_dataset(X, node_indices, feature):\n",
    "    \"\"\"\n",
    "    Splits the data at the given node into\n",
    "    left and right branches\n",
    "    \n",
    "    Args:\n",
    "        X (ndarray):             Data matrix of shape(n_samples, n_features)\n",
    "        node_indices (list):     List containing the active indices. I.e, the samples being considered at this step.\n",
    "        feature (int):           Index of feature to split on\n",
    "    \n",
    "    Returns:\n",
    "        left_indices (list):     Indices with feature value == 1\n",
    "        right_indices (list):    Indices with feature value == 0\n",
    "    \"\"\"\n",
    "    \n",
    "    # You need to return the following variables correctly\n",
    "    left_indices = []\n",
    "    right_indices = []\n",
    "    \n",
    "    ### START CODE HERE ###\n",
    "    for i in node_indices:\n",
    "        \n",
    "        if X[i][feature]==1:\n",
    "            left_indices.append(i)\n",
    "        else:\n",
    "            right_indices.append(i)\n",
    "     \n",
    "    ### END CODE HERE ###\n",
    "        \n",
    "    return left_indices, right_indices"
   ]
  },
  {
   "cell_type": "code",
   "execution_count": 12,
   "metadata": {},
   "outputs": [],
   "source": []
  },
  {
   "cell_type": "code",
   "execution_count": 13,
   "metadata": {},
   "outputs": [],
   "source": [
    "def compute_information_gain(X, y, node_indices, feature):\n",
    "    \n",
    "    \"\"\"\n",
    "    Compute the information of splitting the node on a given feature\n",
    "    \n",
    "    Args:\n",
    "        X (ndarray):            Data matrix of shape(n_samples, n_features)\n",
    "        y (array like):         list or ndarray with n_samples containing the target variable\n",
    "        node_indices (ndarray): List containing the active indices. I.e, the samples being considered in this step.\n",
    "   \n",
    "    Returns:\n",
    "        cost (float):        Cost computed\n",
    "    \n",
    "    \"\"\"    \n",
    "    # Split dataset\n",
    "    left_indices, right_indices = split_dataset(X, node_indices, feature)\n",
    "    \n",
    "    # Some useful variables\n",
    "    X_node, y_node = X[node_indices], y[node_indices]\n",
    "    X_left, y_left = X[left_indices], y[left_indices]\n",
    "    X_right, y_right = X[right_indices], y[right_indices]\n",
    "    \n",
    "    # You need to return the following variables correctly\n",
    "    information_gain = 0\n",
    "    \n",
    "    ### START CODE HERE ###\n",
    "    node_entropy=compute_entropy(y_node)\n",
    "    left_entropy=compute_entropy(y_left)\n",
    "    right_entropy=compute_entropy(y_right)\n",
    "    \n",
    "    w_left=len(X_left)/len(X_node)\n",
    "    w_right=len(X_right)/len(X_node)\n",
    "    weight_entropy=w_left*left_entropy+w_right*right_entropy\n",
    "    information_gain=node_entropy-weight_entropy\n",
    "    ### END CODE HERE ###  \n",
    "    \n",
    "    return information_gain"
   ]
  },
  {
   "cell_type": "code",
   "execution_count": null,
   "metadata": {},
   "outputs": [],
   "source": []
  },
  {
   "cell_type": "code",
   "execution_count": 14,
   "metadata": {},
   "outputs": [],
   "source": [
    "def get_best_split(X, y, node_indices):   \n",
    "    \"\"\"\n",
    "    Returns the optimal feature and threshold value\n",
    "    to split the node data \n",
    "    \n",
    "    Args:\n",
    "        X (ndarray):            Data matrix of shape(n_samples, n_features)\n",
    "        y (array like):         list or ndarray with n_samples containing the target variable\n",
    "        node_indices (ndarray): List containing the active indices. I.e, the samples being considered in this step.\n",
    "\n",
    "    Returns:\n",
    "        best_feature (int):     The index of the best feature to split\n",
    "    \"\"\"    \n",
    "    \n",
    "    # Some useful variables\n",
    "    num_features = X.shape[1]\n",
    "    \n",
    "    # You need to return the following variables correctly\n",
    "    best_feature = -1\n",
    "    max_information_gain=0\n",
    "    \n",
    "    \n",
    "    ### START CODE HERE ###\n",
    "    for feature in range(num_features):\n",
    "        information_gain=compute_information_gain(X, y, node_indices, feature)\n",
    "        if information_gain>max_information_gain:\n",
    "            max_information_gain=information_gain\n",
    "            best_feature=feature\n",
    "          \n",
    "    ### END CODE HERE ##    \n",
    "   \n",
    "    return best_feature"
   ]
  },
  {
   "cell_type": "code",
   "execution_count": 15,
   "metadata": {},
   "outputs": [],
   "source": [
    "tree = []\n",
    "\n",
    "def build_tree_recursive(X, y, node_indices, branch_name, max_depth, current_depth):\n",
    "    \"\"\"\n",
    "    Build a tree using the recursive algorithm that split the dataset into 2 subgroups at each node.\n",
    "    This function just prints the tree.\n",
    "    \n",
    "    Args:\n",
    "        X (ndarray):            Data matrix of shape(n_samples, n_features)\n",
    "        y (array like):         list or ndarray with n_samples containing the target variable\n",
    "        node_indices (ndarray): List containing the active indices. I.e, the samples being considered in this step.\n",
    "        branch_name (string):   Name of the branch. ['Root', 'Left', 'Right']\n",
    "        max_depth (int):        Max depth of the resulting tree. \n",
    "        current_depth (int):    Current depth. Parameter used during recursive call.\n",
    "   \n",
    "    \"\"\" \n",
    "\n",
    "    # Maximum depth reached - stop splitting\n",
    "    if current_depth == max_depth:\n",
    "        formatting = \" \"*current_depth + \"-\"*current_depth\n",
    "        print(formatting, \"%s leaf node with indices\" % branch_name, node_indices)\n",
    "        return\n",
    "   \n",
    "    # Otherwise, get best split and split the data\n",
    "    # Get the best feature and threshold at this node\n",
    "    best_feature = get_best_split(X, y, node_indices) \n",
    "    \n",
    "    formatting = \"-\"*current_depth\n",
    "    print(\"%s Depth %d, %s: Split on feature: %d\" % (formatting, current_depth, branch_name, best_feature))\n",
    "    \n",
    "    # Split the dataset at the best feature\n",
    "    left_indices, right_indices = split_dataset(X, node_indices, best_feature)\n",
    "    tree.append((left_indices, right_indices, best_feature))\n",
    "    \n",
    "    # continue splitting the left and the right child. Increment current depth\n",
    "    build_tree_recursive(X, y, left_indices, \"Left\", max_depth, current_depth+1)\n",
    "    build_tree_recursive(X, y, right_indices, \"Right\", max_depth, current_depth+1)"
   ]
  },
  {
   "cell_type": "code",
   "execution_count": 16,
   "metadata": {},
   "outputs": [
    {
     "name": "stdout",
     "output_type": "stream",
     "text": [
      " Depth 0, Root: Split on feature: 2\n",
      "- Depth 1, Left: Split on feature: 0\n",
      "-- Depth 2, Left: Split on feature: -1\n",
      "   --- Left leaf node with indices [0, 1, 4, 7]\n",
      "   --- Right leaf node with indices []\n",
      "-- Depth 2, Right: Split on feature: -1\n",
      "   --- Left leaf node with indices [5]\n",
      "   --- Right leaf node with indices []\n",
      "- Depth 1, Right: Split on feature: 1\n",
      "-- Depth 2, Left: Split on feature: -1\n",
      "   --- Left leaf node with indices []\n",
      "   --- Right leaf node with indices [8]\n",
      "-- Depth 2, Right: Split on feature: -1\n",
      "   --- Left leaf node with indices []\n",
      "   --- Right leaf node with indices [2, 3, 6, 9]\n"
     ]
    }
   ],
   "source": [
    "build_tree_recursive(X_train, y_train, root_indices, \"Root\", max_depth=3, current_depth=0)"
   ]
  },
  {
   "cell_type": "code",
   "execution_count": 17,
   "metadata": {},
   "outputs": [],
   "source": [
    "from PIL import Image\n",
    "import networkx as nx\n",
    "import matplotlib.pyplot as plt\n",
    "from networkx.drawing.nx_pydot import graphviz_layout\n",
    "\n",
    "def generate_node_image(node_indices):\n",
    "    image_paths = [\"images/%d.png\" % idx for idx in node_indices]\n",
    "    images = [Image.open(x) for x in image_paths]\n",
    "    widths, heights = zip(*(i.size for i in images))\n",
    "\n",
    "    total_width = sum(widths)\n",
    "    max_height = max(heights)\n",
    "\n",
    "    new_im = Image.new('RGB', (total_width, max_height))\n",
    "\n",
    "    x_offset = 0\n",
    "    for im in images:\n",
    "        new_im.paste(im, (x_offset,0))\n",
    "        x_offset += im.size[0]\n",
    "    \n",
    "    new_im = new_im.resize((int(total_width*len(node_indices)/10), int(max_height*len(node_indices)/10)))\n",
    "    \n",
    "    return new_im\n",
    "\n",
    "\n",
    "def generate_split_viz(node_indices, left_indices, right_indices, feature):\n",
    "    \n",
    "    G=nx.DiGraph()\n",
    "    \n",
    "    indices_list = [node_indices, left_indices, right_indices]\n",
    "    for idx, indices in enumerate(indices_list):\n",
    "        G.add_node(idx,image= generate_node_image(indices))\n",
    "\n",
    "    G.add_edge(0,1)\n",
    "    G.add_edge(0,2)\n",
    "\n",
    "    pos = graphviz_layout(G, prog=\"dot\")\n",
    "\n",
    "    fig=plt.figure()\n",
    "    ax=plt.subplot(111)\n",
    "    ax.set_aspect('equal')\n",
    "    nx.draw_networkx_edges(G,pos,ax=ax, arrows=True, arrowsize=40)\n",
    "    \n",
    "    trans=ax.transData.transform\n",
    "    trans2=fig.transFigure.inverted().transform\n",
    "\n",
    "    feature_name = [\"Brown Cap\", \"Tapering Stalk Shape\", \"Solitary\"][feature]\n",
    "    ax_name = [\"Splitting on %s\" % feature_name , \"Left: %s = 1\" % feature_name, \"Right: %s = 0\" % feature_name]\n",
    "    for idx, n in enumerate(G):\n",
    "        xx,yy=trans(pos[n]) # figure coordinates\n",
    "        xa,ya=trans2((xx,yy)) # axes coordinates\n",
    "        piesize = len(indices_list[idx])/9\n",
    "        p2=piesize/2.0\n",
    "        a = plt.axes([xa-p2,ya-p2, piesize, piesize])\n",
    "        a.set_aspect('equal')\n",
    "        a.imshow(G.nodes[n]['image'])\n",
    "        a.axis('off')\n",
    "        a.set_title(ax_name[idx])\n",
    "    ax.axis('off')\n",
    "    plt.show()\n",
    "    \n",
    "    \n",
    "def generate_tree_viz(root_indices, y, tree):\n",
    "    \n",
    "    G=nx.DiGraph()\n",
    "    \n",
    "    \n",
    "    G.add_node(0,image= generate_node_image(root_indices))\n",
    "    idx = 1\n",
    "    root = 0\n",
    "    \n",
    "    num_images = [len(root_indices)]\n",
    "    \n",
    "    feature_name = [\"Brown Cap\", \"Tapering Stalk Shape\", \"Solitary\"]\n",
    "    y_name = [\"Poisonous\",\"Edible\"]\n",
    "    \n",
    "    decision_names = []\n",
    "    leaf_names = []\n",
    "    \n",
    "    for i, level in enumerate(tree):\n",
    "        indices_list = level[:2]\n",
    "        for indices in indices_list:\n",
    "            G.add_node(idx,image= generate_node_image(indices))\n",
    "            G.add_edge(root, idx)\n",
    "            \n",
    "            # For visualization\n",
    "            num_images.append(len(indices))\n",
    "            idx += 1\n",
    "            if i > 0:\n",
    "                leaf_names.append(\"Leaf node: %s\" % y_name[max(y[indices])])\n",
    "            \n",
    "        decision_names.append(\"Split on: %s\" % feature_name[level[2]])\n",
    "        root += 1\n",
    "    \n",
    "    \n",
    "    node_names = decision_names + leaf_names\n",
    "    pos = graphviz_layout(G, prog=\"dot\")\n",
    "\n",
    "    fig=plt.figure(figsize=(14, 10))\n",
    "    ax=plt.subplot(111)\n",
    "    ax.set_aspect('equal')\n",
    "    nx.draw_networkx_edges(G,pos,ax=ax, arrows=True, arrowsize=40)\n",
    "    \n",
    "    trans=ax.transData.transform\n",
    "    trans2=fig.transFigure.inverted().transform\n",
    "\n",
    "    for idx, n in enumerate(G):\n",
    "        xx,yy=trans(pos[n]) # figure coordinates\n",
    "        xa,ya=trans2((xx,yy)) # axes coordinates\n",
    "        piesize = num_images[idx]/25\n",
    "        p2=piesize/2.0\n",
    "        a = plt.axes([xa-p2,ya-p2, piesize, piesize])\n",
    "        a.set_aspect('equal')\n",
    "        a.imshow(G.nodes[n]['image'])\n",
    "        a.axis('off')\n",
    "        a.set_title(node_names[idx], y=-0.8, fontsize=13, loc=\"left\")\n",
    "    ax.axis('off')\n",
    "    plt.show()"
   ]
  },
  {
   "cell_type": "code",
   "execution_count": null,
   "metadata": {},
   "outputs": [],
   "source": []
  }
 ],
 "metadata": {
  "kernelspec": {
   "display_name": "Python 3.8.10 64-bit",
   "language": "python",
   "name": "python3"
  },
  "language_info": {
   "codemirror_mode": {
    "name": "ipython",
    "version": 3
   },
   "file_extension": ".py",
   "mimetype": "text/x-python",
   "name": "python",
   "nbconvert_exporter": "python",
   "pygments_lexer": "ipython3",
   "version": "3.8.10"
  },
  "orig_nbformat": 4,
  "vscode": {
   "interpreter": {
    "hash": "31f2aee4e71d21fbe5cf8b01ff0e069b9275f58929596ceb00d14d90e3e16cd6"
   }
  }
 },
 "nbformat": 4,
 "nbformat_minor": 2
}
