{
 "cells": [
  {
   "cell_type": "code",
   "execution_count": 18,
   "metadata": {},
   "outputs": [],
   "source": [
    "import numpy as np \n",
    "import pandas as pd \n",
    "import time\n",
    "from math import log"
   ]
  },
  {
   "cell_type": "code",
   "execution_count": 2,
   "metadata": {},
   "outputs": [
    {
     "data": {
      "text/html": [
       "<div>\n",
       "<style scoped>\n",
       "    .dataframe tbody tr th:only-of-type {\n",
       "        vertical-align: middle;\n",
       "    }\n",
       "\n",
       "    .dataframe tbody tr th {\n",
       "        vertical-align: top;\n",
       "    }\n",
       "\n",
       "    .dataframe thead th {\n",
       "        text-align: right;\n",
       "    }\n",
       "</style>\n",
       "<table border=\"1\" class=\"dataframe\">\n",
       "  <thead>\n",
       "    <tr style=\"text-align: right;\">\n",
       "      <th></th>\n",
       "      <th>id</th>\n",
       "      <th>Loan_ant</th>\n",
       "      <th>Loan Status</th>\n",
       "    </tr>\n",
       "  </thead>\n",
       "  <tbody>\n",
       "    <tr>\n",
       "      <th>0</th>\n",
       "      <td>1</td>\n",
       "      <td>100</td>\n",
       "      <td>Bad</td>\n",
       "    </tr>\n",
       "    <tr>\n",
       "      <th>1</th>\n",
       "      <td>2</td>\n",
       "      <td>200</td>\n",
       "      <td>Good</td>\n",
       "    </tr>\n",
       "    <tr>\n",
       "      <th>2</th>\n",
       "      <td>3</td>\n",
       "      <td>250</td>\n",
       "      <td>Good</td>\n",
       "    </tr>\n",
       "    <tr>\n",
       "      <th>3</th>\n",
       "      <td>4</td>\n",
       "      <td>150</td>\n",
       "      <td>Good</td>\n",
       "    </tr>\n",
       "    <tr>\n",
       "      <th>4</th>\n",
       "      <td>5</td>\n",
       "      <td>300</td>\n",
       "      <td>Bad</td>\n",
       "    </tr>\n",
       "  </tbody>\n",
       "</table>\n",
       "</div>"
      ],
      "text/plain": [
       "   id  Loan_ant Loan Status\n",
       "0   1       100         Bad\n",
       "1   2       200        Good\n",
       "2   3       250        Good\n",
       "3   4       150        Good\n",
       "4   5       300         Bad"
      ]
     },
     "execution_count": 2,
     "metadata": {},
     "output_type": "execute_result"
    }
   ],
   "source": [
    "data=pd.DataFrame({'id':[1,2,3,4,5],'Loan_ant':[100,200,250,150,300],'Loan Status':['Bad','Good','Good','Good','Bad']})\n",
    "data"
   ]
  },
  {
   "cell_type": "code",
   "execution_count": null,
   "metadata": {},
   "outputs": [],
   "source": []
  },
  {
   "cell_type": "code",
   "execution_count": 3,
   "metadata": {},
   "outputs": [],
   "source": [
    "weather=pd.DataFrame(\n",
    "    {'Weekened':['W1','W2','W3','W4','W5','W6','W7','W8','W9','W10'],\n",
    "     \"Weather\":['Sunny','Windy','Rainy','Rainy','Rainy','Sunny','Windy','Windy','Windy','Sunny'],\n",
    "    'Parents':['YES','NO','YES','YES','NO','YES','NO','NO','YES','NO'],\n",
    "    'Money':['Rich','Rich','Rich','Poor','Rich','Poor','Poor','Rich','Rich','Rich'],\n",
    "    'Decission':['Cinema','Tennis','Cinema','Cinema','Stay In','Cinema','Cinema','Shopping','Cinema','Tennis']\n",
    "    }\n",
    ")"
   ]
  },
  {
   "cell_type": "code",
   "execution_count": 4,
   "metadata": {},
   "outputs": [
    {
     "data": {
      "text/html": [
       "<div>\n",
       "<style scoped>\n",
       "    .dataframe tbody tr th:only-of-type {\n",
       "        vertical-align: middle;\n",
       "    }\n",
       "\n",
       "    .dataframe tbody tr th {\n",
       "        vertical-align: top;\n",
       "    }\n",
       "\n",
       "    .dataframe thead th {\n",
       "        text-align: right;\n",
       "    }\n",
       "</style>\n",
       "<table border=\"1\" class=\"dataframe\">\n",
       "  <thead>\n",
       "    <tr style=\"text-align: right;\">\n",
       "      <th></th>\n",
       "      <th>Weekened</th>\n",
       "      <th>Weather</th>\n",
       "      <th>Parents</th>\n",
       "      <th>Money</th>\n",
       "      <th>Decission</th>\n",
       "      <th>Weather_</th>\n",
       "      <th>Parents_</th>\n",
       "      <th>Money_</th>\n",
       "      <th>Decission_</th>\n",
       "    </tr>\n",
       "  </thead>\n",
       "  <tbody>\n",
       "    <tr>\n",
       "      <th>0</th>\n",
       "      <td>W1</td>\n",
       "      <td>Sunny</td>\n",
       "      <td>YES</td>\n",
       "      <td>Rich</td>\n",
       "      <td>Cinema</td>\n",
       "      <td>0</td>\n",
       "      <td>1</td>\n",
       "      <td>1</td>\n",
       "      <td>0</td>\n",
       "    </tr>\n",
       "    <tr>\n",
       "      <th>1</th>\n",
       "      <td>W2</td>\n",
       "      <td>Windy</td>\n",
       "      <td>NO</td>\n",
       "      <td>Rich</td>\n",
       "      <td>Tennis</td>\n",
       "      <td>1</td>\n",
       "      <td>0</td>\n",
       "      <td>1</td>\n",
       "      <td>1</td>\n",
       "    </tr>\n",
       "    <tr>\n",
       "      <th>2</th>\n",
       "      <td>W3</td>\n",
       "      <td>Rainy</td>\n",
       "      <td>YES</td>\n",
       "      <td>Rich</td>\n",
       "      <td>Cinema</td>\n",
       "      <td>2</td>\n",
       "      <td>1</td>\n",
       "      <td>1</td>\n",
       "      <td>0</td>\n",
       "    </tr>\n",
       "    <tr>\n",
       "      <th>3</th>\n",
       "      <td>W4</td>\n",
       "      <td>Rainy</td>\n",
       "      <td>YES</td>\n",
       "      <td>Poor</td>\n",
       "      <td>Cinema</td>\n",
       "      <td>2</td>\n",
       "      <td>1</td>\n",
       "      <td>0</td>\n",
       "      <td>0</td>\n",
       "    </tr>\n",
       "    <tr>\n",
       "      <th>4</th>\n",
       "      <td>W5</td>\n",
       "      <td>Rainy</td>\n",
       "      <td>NO</td>\n",
       "      <td>Rich</td>\n",
       "      <td>Stay In</td>\n",
       "      <td>2</td>\n",
       "      <td>0</td>\n",
       "      <td>1</td>\n",
       "      <td>2</td>\n",
       "    </tr>\n",
       "    <tr>\n",
       "      <th>5</th>\n",
       "      <td>W6</td>\n",
       "      <td>Sunny</td>\n",
       "      <td>YES</td>\n",
       "      <td>Poor</td>\n",
       "      <td>Cinema</td>\n",
       "      <td>0</td>\n",
       "      <td>1</td>\n",
       "      <td>0</td>\n",
       "      <td>0</td>\n",
       "    </tr>\n",
       "    <tr>\n",
       "      <th>6</th>\n",
       "      <td>W7</td>\n",
       "      <td>Windy</td>\n",
       "      <td>NO</td>\n",
       "      <td>Poor</td>\n",
       "      <td>Cinema</td>\n",
       "      <td>1</td>\n",
       "      <td>0</td>\n",
       "      <td>0</td>\n",
       "      <td>0</td>\n",
       "    </tr>\n",
       "    <tr>\n",
       "      <th>7</th>\n",
       "      <td>W8</td>\n",
       "      <td>Windy</td>\n",
       "      <td>NO</td>\n",
       "      <td>Rich</td>\n",
       "      <td>Shopping</td>\n",
       "      <td>1</td>\n",
       "      <td>0</td>\n",
       "      <td>1</td>\n",
       "      <td>3</td>\n",
       "    </tr>\n",
       "    <tr>\n",
       "      <th>8</th>\n",
       "      <td>W9</td>\n",
       "      <td>Windy</td>\n",
       "      <td>YES</td>\n",
       "      <td>Rich</td>\n",
       "      <td>Cinema</td>\n",
       "      <td>1</td>\n",
       "      <td>1</td>\n",
       "      <td>1</td>\n",
       "      <td>0</td>\n",
       "    </tr>\n",
       "    <tr>\n",
       "      <th>9</th>\n",
       "      <td>W10</td>\n",
       "      <td>Sunny</td>\n",
       "      <td>NO</td>\n",
       "      <td>Rich</td>\n",
       "      <td>Tennis</td>\n",
       "      <td>0</td>\n",
       "      <td>0</td>\n",
       "      <td>1</td>\n",
       "      <td>1</td>\n",
       "    </tr>\n",
       "  </tbody>\n",
       "</table>\n",
       "</div>"
      ],
      "text/plain": [
       "  Weekened Weather Parents Money Decission  Weather_  Parents_  Money_  \\\n",
       "0       W1   Sunny     YES  Rich    Cinema         0         1       1   \n",
       "1       W2   Windy      NO  Rich    Tennis         1         0       1   \n",
       "2       W3   Rainy     YES  Rich    Cinema         2         1       1   \n",
       "3       W4   Rainy     YES  Poor    Cinema         2         1       0   \n",
       "4       W5   Rainy      NO  Rich   Stay In         2         0       1   \n",
       "5       W6   Sunny     YES  Poor    Cinema         0         1       0   \n",
       "6       W7   Windy      NO  Poor    Cinema         1         0       0   \n",
       "7       W8   Windy      NO  Rich  Shopping         1         0       1   \n",
       "8       W9   Windy     YES  Rich    Cinema         1         1       1   \n",
       "9      W10   Sunny      NO  Rich    Tennis         0         0       1   \n",
       "\n",
       "   Decission_  \n",
       "0           0  \n",
       "1           1  \n",
       "2           0  \n",
       "3           0  \n",
       "4           2  \n",
       "5           0  \n",
       "6           0  \n",
       "7           3  \n",
       "8           0  \n",
       "9           1  "
      ]
     },
     "execution_count": 4,
     "metadata": {},
     "output_type": "execute_result"
    }
   ],
   "source": [
    "weather['Weather_']=weather.Weather.map({'Sunny':0,'Windy':1,'Rainy':2})\n",
    "weather['Parents_']=weather.Parents.map(({'YES':1,'NO':0}))\n",
    "weather['Money_']=weather.Money.map({'Rich':1,'Poor':0})\n",
    "weather['Decission_']=weather.Decission.map({'Cinema':0,'Tennis':1,'Stay In':2,'Shopping':3})\n",
    "weather\n"
   ]
  },
  {
   "cell_type": "code",
   "execution_count": 5,
   "metadata": {},
   "outputs": [
    {
     "data": {
      "text/html": [
       "<div>\n",
       "<style scoped>\n",
       "    .dataframe tbody tr th:only-of-type {\n",
       "        vertical-align: middle;\n",
       "    }\n",
       "\n",
       "    .dataframe tbody tr th {\n",
       "        vertical-align: top;\n",
       "    }\n",
       "\n",
       "    .dataframe thead th {\n",
       "        text-align: right;\n",
       "    }\n",
       "</style>\n",
       "<table border=\"1\" class=\"dataframe\">\n",
       "  <thead>\n",
       "    <tr style=\"text-align: right;\">\n",
       "      <th></th>\n",
       "      <th>Weather_</th>\n",
       "      <th>Parents_</th>\n",
       "      <th>Money_</th>\n",
       "      <th>Decission_</th>\n",
       "    </tr>\n",
       "  </thead>\n",
       "  <tbody>\n",
       "    <tr>\n",
       "      <th>0</th>\n",
       "      <td>0</td>\n",
       "      <td>1</td>\n",
       "      <td>1</td>\n",
       "      <td>0</td>\n",
       "    </tr>\n",
       "    <tr>\n",
       "      <th>1</th>\n",
       "      <td>1</td>\n",
       "      <td>0</td>\n",
       "      <td>1</td>\n",
       "      <td>1</td>\n",
       "    </tr>\n",
       "    <tr>\n",
       "      <th>2</th>\n",
       "      <td>2</td>\n",
       "      <td>1</td>\n",
       "      <td>1</td>\n",
       "      <td>0</td>\n",
       "    </tr>\n",
       "    <tr>\n",
       "      <th>3</th>\n",
       "      <td>2</td>\n",
       "      <td>1</td>\n",
       "      <td>0</td>\n",
       "      <td>0</td>\n",
       "    </tr>\n",
       "    <tr>\n",
       "      <th>4</th>\n",
       "      <td>2</td>\n",
       "      <td>0</td>\n",
       "      <td>1</td>\n",
       "      <td>2</td>\n",
       "    </tr>\n",
       "    <tr>\n",
       "      <th>5</th>\n",
       "      <td>0</td>\n",
       "      <td>1</td>\n",
       "      <td>0</td>\n",
       "      <td>0</td>\n",
       "    </tr>\n",
       "    <tr>\n",
       "      <th>6</th>\n",
       "      <td>1</td>\n",
       "      <td>0</td>\n",
       "      <td>0</td>\n",
       "      <td>0</td>\n",
       "    </tr>\n",
       "    <tr>\n",
       "      <th>7</th>\n",
       "      <td>1</td>\n",
       "      <td>0</td>\n",
       "      <td>1</td>\n",
       "      <td>3</td>\n",
       "    </tr>\n",
       "    <tr>\n",
       "      <th>8</th>\n",
       "      <td>1</td>\n",
       "      <td>1</td>\n",
       "      <td>1</td>\n",
       "      <td>0</td>\n",
       "    </tr>\n",
       "    <tr>\n",
       "      <th>9</th>\n",
       "      <td>0</td>\n",
       "      <td>0</td>\n",
       "      <td>1</td>\n",
       "      <td>1</td>\n",
       "    </tr>\n",
       "  </tbody>\n",
       "</table>\n",
       "</div>"
      ],
      "text/plain": [
       "   Weather_  Parents_  Money_  Decission_\n",
       "0         0         1       1           0\n",
       "1         1         0       1           1\n",
       "2         2         1       1           0\n",
       "3         2         1       0           0\n",
       "4         2         0       1           2\n",
       "5         0         1       0           0\n",
       "6         1         0       0           0\n",
       "7         1         0       1           3\n",
       "8         1         1       1           0\n",
       "9         0         0       1           1"
      ]
     },
     "execution_count": 5,
     "metadata": {},
     "output_type": "execute_result"
    }
   ],
   "source": [
    "weather=weather.loc[:,'Weather_':]\n",
    "weather"
   ]
  },
  {
   "cell_type": "code",
   "execution_count": null,
   "metadata": {},
   "outputs": [],
   "source": [
    "\n",
    "    "
   ]
  },
  {
   "cell_type": "code",
   "execution_count": 11,
   "metadata": {},
   "outputs": [],
   "source": [
    "def gini(x):\n",
    "    start=time.time()\n",
    "    total = 0\n",
    "    for i, xi in enumerate(x[:-1], 1):\n",
    "        total += np.sum(np.abs(xi - x[i:]))\n",
    "        \n",
    "    end=time.time()\n",
    "    print(end-start)\n",
    "      \n",
    "    return total / (len(x)**2 * np.mean(x))"
   ]
  },
  {
   "cell_type": "code",
   "execution_count": null,
   "metadata": {},
   "outputs": [],
   "source": [
    "\n",
    "    "
   ]
  },
  {
   "cell_type": "code",
   "execution_count": null,
   "metadata": {},
   "outputs": [],
   "source": []
  },
  {
   "cell_type": "code",
   "execution_count": 27,
   "metadata": {},
   "outputs": [
    {
     "name": "stdout",
     "output_type": "stream",
     "text": [
      "0.011675834655761719\n"
     ]
    },
    {
     "data": {
      "text/plain": [
       "0.42"
      ]
     },
     "execution_count": 27,
     "metadata": {},
     "output_type": "execute_result"
    }
   ],
   "source": [
    "gini(weather.Weather_)"
   ]
  },
  {
   "cell_type": "code",
   "execution_count": null,
   "metadata": {},
   "outputs": [],
   "source": []
  },
  {
   "cell_type": "code",
   "execution_count": null,
   "metadata": {},
   "outputs": [],
   "source": [
    "\n",
    "    "
   ]
  },
  {
   "cell_type": "code",
   "execution_count": 87,
   "metadata": {},
   "outputs": [],
   "source": [
    "def gini_index(x):\n",
    "    start=time.time()\n",
    "    gini=np.abs(np.subtract.outer(x, x)).mean()/np.mean(x)*0.5\n",
    "    end=time.time()\n",
    "    print('total time is ',end-start)\n",
    "    return gini\n"
   ]
  },
  {
   "cell_type": "code",
   "execution_count": 88,
   "metadata": {},
   "outputs": [],
   "source": [
    "x=np.array(weather.Weather_.values)"
   ]
  },
  {
   "cell_type": "code",
   "execution_count": 89,
   "metadata": {},
   "outputs": [
    {
     "name": "stdout",
     "output_type": "stream",
     "text": [
      "total time is  0.00016832351684570312\n"
     ]
    },
    {
     "data": {
      "text/plain": [
       "0.42"
      ]
     },
     "execution_count": 89,
     "metadata": {},
     "output_type": "execute_result"
    }
   ],
   "source": [
    "a=gini_index(x)\n",
    "a"
   ]
  },
  {
   "cell_type": "code",
   "execution_count": 99,
   "metadata": {},
   "outputs": [
    {
     "data": {
      "text/plain": [
       "10"
      ]
     },
     "execution_count": 99,
     "metadata": {},
     "output_type": "execute_result"
    }
   ],
   "source": [
    "len(x)"
   ]
  },
  {
   "cell_type": "code",
   "execution_count": 103,
   "metadata": {},
   "outputs": [],
   "source": [
    "#np.sum(np.square((np.bincount(x)/len(x))))"
   ]
  },
  {
   "cell_type": "code",
   "execution_count": 47,
   "metadata": {},
   "outputs": [
    {
     "data": {
      "text/plain": [
       "1.5709505944546684"
      ]
     },
     "execution_count": 47,
     "metadata": {},
     "output_type": "execute_result"
    }
   ],
   "source": [
    "counts=np.bincount(weather.Weather_)\n",
    "p=counts/len(weather.Weather_)\n",
    "entropy=-np.sum((np.multiply(p,np.log2(p))))\n",
    "entropy\n",
    "    "
   ]
  },
  {
   "cell_type": "code",
   "execution_count": 45,
   "metadata": {},
   "outputs": [
    {
     "data": {
      "text/plain": [
       "1.5709505944546684"
      ]
     },
     "execution_count": 45,
     "metadata": {},
     "output_type": "execute_result"
    }
   ],
   "source": []
  },
  {
   "cell_type": "code",
   "execution_count": 40,
   "metadata": {},
   "outputs": [],
   "source": [
    "def calc_entropy(x):\n",
    "    counts=np.bincount(x)\n",
    "    probab=counts/len(x)\n",
    "    entropy=0\n",
    "    for prob in probab:\n",
    "        if prob>0:\n",
    "            entropy+=prob*np.log2(prob)\n",
    "    return -entropy        "
   ]
  },
  {
   "cell_type": "code",
   "execution_count": 56,
   "metadata": {},
   "outputs": [],
   "source": [
    "class DecissionCost:\n",
    "    #def __init__(self):\n",
    "        \n",
    "        \n",
    "    def Entropy(self,x):\n",
    "        counts=np.bincount(x)\n",
    "        p=counts/len(x)\n",
    "        entropy=-np.sum(np.multiply(p,np.log2(p)))\n",
    "        return entropy\n",
    "    def InformationGain(self,x):\n",
    "        entropy=self.Entropy(x)\n",
    "        IG=1-entropy\n",
    "        return IG"
   ]
  },
  {
   "cell_type": "code",
   "execution_count": 57,
   "metadata": {},
   "outputs": [
    {
     "data": {
      "text/plain": [
       "-0.5709505944546684"
      ]
     },
     "execution_count": 57,
     "metadata": {},
     "output_type": "execute_result"
    }
   ],
   "source": [
    "cost=DecissionCost()\n",
    "cost.Entropy(weather.Weather_)\n",
    "cost.InformationGain(weather.Weather_)"
   ]
  },
  {
   "cell_type": "code",
   "execution_count": 58,
   "metadata": {},
   "outputs": [],
   "source": [
    "from scipy.stats import entropy"
   ]
  },
  {
   "cell_type": "code",
   "execution_count": 63,
   "metadata": {},
   "outputs": [
    {
     "data": {
      "text/plain": [
       "2.7219280948873625"
      ]
     },
     "execution_count": 63,
     "metadata": {},
     "output_type": "execute_result"
    }
   ],
   "source": [
    "entropy(weather.Weather_,base=2)"
   ]
  },
  {
   "cell_type": "code",
   "execution_count": 64,
   "metadata": {},
   "outputs": [
    {
     "name": "stdout",
     "output_type": "stream",
     "text": [
      "           age  income student credit_rate default\n",
      "0        youth    high      no        fair      no\n",
      "1        youth    high      no   excellent      no\n",
      "2   middle_age    high      no        fair     yes\n",
      "3       senior  medium      no        fair     yes\n",
      "4       senior     low     yes        fair     yes\n",
      "5       senior     low     yes   excellent      no\n",
      "6   middle_age     low     yes   excellent     yes\n",
      "7        youth  medium      no        fair      no\n",
      "8        youth     low     yes        fair     yes\n",
      "9       senior  medium     yes        fair     yes\n",
      "10       youth  medium     yes   excellent     yes\n",
      "11  middle_age  medium      no   excellent     yes\n",
      "12  middle_age    high     yes        fair     yes\n",
      "13      senior  medium      no   excellent      no\n"
     ]
    }
   ],
   "source": [
    "# Defining a simple dataset\n",
    "attribute_names =  ['age', 'income','student', 'credit_rate']\n",
    "class_name = 'default'\n",
    "data1 ={\n",
    "    'age' : ['youth', 'youth', 'middle_age', 'senior', 'senior', 'senior','middle_age', 'youth', 'youth', 'senior', 'youth', 'middle_age','middle_age', 'senior'],\n",
    "    'income' : ['high', 'high', 'high', 'medium', 'low', 'low', 'low', 'medium','low', 'medium', 'medium', 'medium', 'high', 'medium'],\n",
    "    'student' : ['no','no','no','no','yes','yes','yes','no','yes','yes','yes','no','yes','no'],\n",
    "    'credit_rate' : ['fair', 'excellent', 'fair', 'fair', 'fair', 'excellent', 'excellent', 'fair', 'fair', 'fair','excellent', 'excellent', 'fair', 'excellent'],\n",
    "    'default' : ['no', 'no', 'yes', 'yes', 'yes', 'no', 'yes', 'no', 'yes', 'yes','yes', 'yes', 'yes', 'no']\n",
    "}\n",
    "df1 = pd.DataFrame (data1, columns=data1.keys())\n",
    "print(df1)\n"
   ]
  },
  {
   "cell_type": "code",
   "execution_count": 82,
   "metadata": {},
   "outputs": [
    {
     "name": "stdout",
     "output_type": "stream",
     "text": [
      "12\n",
      "12\n",
      "0.4591836734693877\n"
     ]
    }
   ],
   "source": [
    "\n",
    "\n",
    "\n",
    "class_value_counts = df1[class_name].value_counts()\n",
    "class_value_counts\n",
    "n=class_value_counts.sum()\n",
    "p_sum=0\n",
    "for key in class_value_counts.keys():\n",
    "    p_sum+=(class_value_counts[key]/n)*(class_value_counts[key]/n)\n",
    "\n",
    "gini=1-p_sum\n",
    "print(gini)\n",
    "    "
   ]
  },
  {
   "cell_type": "code",
   "execution_count": 79,
   "metadata": {},
   "outputs": [
    {
     "name": "stdout",
     "output_type": "stream",
     "text": [
      "yes    9\n",
      "no     5\n",
      "Name: default, dtype: int64\n"
     ]
    }
   ],
   "source": [
    "try:\n",
    "    \n",
    "    np.bincount(df1[class_name])\n",
    "except:\n",
    "    class_counts=df1[class_name].value_counts()  \n",
    "    "
   ]
  },
  {
   "cell_type": "code",
   "execution_count": 115,
   "metadata": {},
   "outputs": [
    {
     "name": "stdout",
     "output_type": "stream",
     "text": [
      "0.66\n"
     ]
    }
   ],
   "source": [
    "\n",
    "class_value_counts =np.bincount(x)\n",
    "\n",
    "n=class_value_counts.sum()\n",
    "p_sum=0\n",
    "for key in class_value_counts:\n",
    "    p_sum+=(key/n)*(key/n)\n",
    "  \n",
    "\n",
    "gini=1-p_sum\n",
    "print(gini)\n",
    "    \n"
   ]
  },
  {
   "cell_type": "code",
   "execution_count": 117,
   "metadata": {},
   "outputs": [
    {
     "data": {
      "text/plain": [
       "array([0, 1, 2, 2, 2, 0, 1, 1, 1, 0])"
      ]
     },
     "execution_count": 117,
     "metadata": {},
     "output_type": "execute_result"
    }
   ],
   "source": [
    "x"
   ]
  },
  {
   "cell_type": "code",
   "execution_count": 118,
   "metadata": {},
   "outputs": [
    {
     "data": {
      "text/plain": [
       "-0.5709505944546684"
      ]
     },
     "execution_count": 118,
     "metadata": {},
     "output_type": "execute_result"
    }
   ],
   "source": [
    "cost.Entropy(x)\n",
    "cost.InformationGain(x)"
   ]
  },
  {
   "cell_type": "code",
   "execution_count": null,
   "metadata": {},
   "outputs": [],
   "source": []
  }
 ],
 "metadata": {
  "kernelspec": {
   "display_name": "Python 3.8.10 64-bit",
   "language": "python",
   "name": "python3"
  },
  "language_info": {
   "codemirror_mode": {
    "name": "ipython",
    "version": 3
   },
   "file_extension": ".py",
   "mimetype": "text/x-python",
   "name": "python",
   "nbconvert_exporter": "python",
   "pygments_lexer": "ipython3",
   "version": "3.8.10"
  },
  "orig_nbformat": 4,
  "vscode": {
   "interpreter": {
    "hash": "31f2aee4e71d21fbe5cf8b01ff0e069b9275f58929596ceb00d14d90e3e16cd6"
   }
  }
 },
 "nbformat": 4,
 "nbformat_minor": 2
}
