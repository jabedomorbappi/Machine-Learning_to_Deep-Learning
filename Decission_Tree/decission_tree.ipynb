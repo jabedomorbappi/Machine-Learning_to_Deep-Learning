{
 "cells": [
  {
   "cell_type": "code",
   "execution_count": 255,
   "metadata": {},
   "outputs": [],
   "source": [
    "import pandas as pd\n",
    "import numpy as np\n",
    "from pprint import pprint\n",
    "\n",
    "\n",
    "\n",
    "#Import the dataset and define the feature as well as the target datasets / columns#\n",
    "dataset = pd.read_csv('/home/jabed/Downloads/Desktop_backup/Desk1/ML_tensor_pytorch/Decission_Tree/archive(1)/Kaggle data decission tree bill_authentication.csv')\n",
    "\n",
    "\n",
    "\n",
    "#We drop the animal names since this is not a good feature to split the data on\n",
    "\n",
    "from sklearn.model_selection import train_test_split"
   ]
  },
  {
   "cell_type": "code",
   "execution_count": 256,
   "metadata": {},
   "outputs": [
    {
     "data": {
      "text/html": [
       "<div>\n",
       "<style scoped>\n",
       "    .dataframe tbody tr th:only-of-type {\n",
       "        vertical-align: middle;\n",
       "    }\n",
       "\n",
       "    .dataframe tbody tr th {\n",
       "        vertical-align: top;\n",
       "    }\n",
       "\n",
       "    .dataframe thead th {\n",
       "        text-align: right;\n",
       "    }\n",
       "</style>\n",
       "<table border=\"1\" class=\"dataframe\">\n",
       "  <thead>\n",
       "    <tr style=\"text-align: right;\">\n",
       "      <th></th>\n",
       "      <th>toothed</th>\n",
       "      <th>hair</th>\n",
       "      <th>breathes</th>\n",
       "      <th>legs</th>\n",
       "      <th>species</th>\n",
       "    </tr>\n",
       "  </thead>\n",
       "  <tbody>\n",
       "    <tr>\n",
       "      <th>0</th>\n",
       "      <td>True</td>\n",
       "      <td>True</td>\n",
       "      <td>True</td>\n",
       "      <td>True</td>\n",
       "      <td>Mammal</td>\n",
       "    </tr>\n",
       "    <tr>\n",
       "      <th>1</th>\n",
       "      <td>True</td>\n",
       "      <td>True</td>\n",
       "      <td>True</td>\n",
       "      <td>True</td>\n",
       "      <td>Mammal</td>\n",
       "    </tr>\n",
       "    <tr>\n",
       "      <th>2</th>\n",
       "      <td>True</td>\n",
       "      <td>False</td>\n",
       "      <td>True</td>\n",
       "      <td>False</td>\n",
       "      <td>Reptile</td>\n",
       "    </tr>\n",
       "    <tr>\n",
       "      <th>3</th>\n",
       "      <td>False</td>\n",
       "      <td>True</td>\n",
       "      <td>True</td>\n",
       "      <td>True</td>\n",
       "      <td>Mammal</td>\n",
       "    </tr>\n",
       "    <tr>\n",
       "      <th>4</th>\n",
       "      <td>True</td>\n",
       "      <td>True</td>\n",
       "      <td>True</td>\n",
       "      <td>True</td>\n",
       "      <td>Mammal</td>\n",
       "    </tr>\n",
       "    <tr>\n",
       "      <th>5</th>\n",
       "      <td>True</td>\n",
       "      <td>True</td>\n",
       "      <td>True</td>\n",
       "      <td>True</td>\n",
       "      <td>Mammal</td>\n",
       "    </tr>\n",
       "    <tr>\n",
       "      <th>6</th>\n",
       "      <td>True</td>\n",
       "      <td>False</td>\n",
       "      <td>False</td>\n",
       "      <td>False</td>\n",
       "      <td>Reptile</td>\n",
       "    </tr>\n",
       "    <tr>\n",
       "      <th>7</th>\n",
       "      <td>True</td>\n",
       "      <td>False</td>\n",
       "      <td>True</td>\n",
       "      <td>False</td>\n",
       "      <td>Reptile</td>\n",
       "    </tr>\n",
       "    <tr>\n",
       "      <th>8</th>\n",
       "      <td>True</td>\n",
       "      <td>True</td>\n",
       "      <td>True</td>\n",
       "      <td>True</td>\n",
       "      <td>Mammal</td>\n",
       "    </tr>\n",
       "    <tr>\n",
       "      <th>9</th>\n",
       "      <td>False</td>\n",
       "      <td>False</td>\n",
       "      <td>True</td>\n",
       "      <td>True</td>\n",
       "      <td>Reptile</td>\n",
       "    </tr>\n",
       "  </tbody>\n",
       "</table>\n",
       "</div>"
      ],
      "text/plain": [
       "  toothed   hair breathes   legs  species\n",
       "0    True   True     True   True   Mammal\n",
       "1    True   True     True   True   Mammal\n",
       "2    True  False     True  False  Reptile\n",
       "3   False   True     True   True   Mammal\n",
       "4    True   True     True   True   Mammal\n",
       "5    True   True     True   True   Mammal\n",
       "6    True  False    False  False  Reptile\n",
       "7    True  False     True  False  Reptile\n",
       "8    True   True     True   True   Mammal\n",
       "9   False  False     True   True  Reptile"
      ]
     },
     "execution_count": 256,
     "metadata": {},
     "output_type": "execute_result"
    }
   ],
   "source": [
    "data = pd.DataFrame({\"toothed\":[\"True\",\"True\",\"True\",\"False\",\"True\",\"True\",\"True\",\"True\",\"True\",\"False\"],\n",
    "                     \"hair\":[\"True\",\"True\",\"False\",\"True\",\"True\",\"True\",\"False\",\"False\",\"True\",\"False\"],\n",
    "                     \"breathes\":[\"True\",\"True\",\"True\",\"True\",\"True\",\"True\",\"False\",\"True\",\"True\",\"True\"],\n",
    "                     \"legs\":[\"True\",\"True\",\"False\",\"True\",\"True\",\"True\",\"False\",\"False\",\"True\",\"True\"],\n",
    "                     \"species\":[\"Mammal\",\"Mammal\",\"Reptile\",\"Mammal\",\"Mammal\",\"Mammal\",\"Reptile\",\"Reptile\",\"Mammal\",\"Reptile\"]}, \n",
    "                    columns=[\"toothed\",\"hair\",\"breathes\",\"legs\",\"species\"])\n",
    "\n",
    "features = data[[\"toothed\",\"hair\",\"breathes\",\"legs\"]]\n",
    "target = data[\"species\"]\n",
    "\n",
    "data"
   ]
  },
  {
   "cell_type": "code",
   "execution_count": 257,
   "metadata": {},
   "outputs": [],
   "source": [
    "data.toothed=data.toothed.map({'True':1,'False':0})\n",
    "data.hair=data.hair.map({'True':1,'False':0})\n",
    "data.breathes=data.breathes.map({'True':1,'False':0})\n",
    "data.legs=data.legs.map({'True':1,'False':0})\n",
    "data.species=data.species.map({'Mammal':1,'Reptile':0})\n"
   ]
  },
  {
   "cell_type": "code",
   "execution_count": 258,
   "metadata": {},
   "outputs": [
    {
     "data": {
      "text/html": [
       "<div>\n",
       "<style scoped>\n",
       "    .dataframe tbody tr th:only-of-type {\n",
       "        vertical-align: middle;\n",
       "    }\n",
       "\n",
       "    .dataframe tbody tr th {\n",
       "        vertical-align: top;\n",
       "    }\n",
       "\n",
       "    .dataframe thead th {\n",
       "        text-align: right;\n",
       "    }\n",
       "</style>\n",
       "<table border=\"1\" class=\"dataframe\">\n",
       "  <thead>\n",
       "    <tr style=\"text-align: right;\">\n",
       "      <th></th>\n",
       "      <th>toothed</th>\n",
       "      <th>hair</th>\n",
       "      <th>breathes</th>\n",
       "      <th>legs</th>\n",
       "      <th>species</th>\n",
       "    </tr>\n",
       "  </thead>\n",
       "  <tbody>\n",
       "    <tr>\n",
       "      <th>0</th>\n",
       "      <td>1</td>\n",
       "      <td>1</td>\n",
       "      <td>1</td>\n",
       "      <td>1</td>\n",
       "      <td>1</td>\n",
       "    </tr>\n",
       "    <tr>\n",
       "      <th>1</th>\n",
       "      <td>1</td>\n",
       "      <td>1</td>\n",
       "      <td>1</td>\n",
       "      <td>1</td>\n",
       "      <td>1</td>\n",
       "    </tr>\n",
       "    <tr>\n",
       "      <th>2</th>\n",
       "      <td>1</td>\n",
       "      <td>0</td>\n",
       "      <td>1</td>\n",
       "      <td>0</td>\n",
       "      <td>0</td>\n",
       "    </tr>\n",
       "    <tr>\n",
       "      <th>3</th>\n",
       "      <td>0</td>\n",
       "      <td>1</td>\n",
       "      <td>1</td>\n",
       "      <td>1</td>\n",
       "      <td>1</td>\n",
       "    </tr>\n",
       "    <tr>\n",
       "      <th>4</th>\n",
       "      <td>1</td>\n",
       "      <td>1</td>\n",
       "      <td>1</td>\n",
       "      <td>1</td>\n",
       "      <td>1</td>\n",
       "    </tr>\n",
       "    <tr>\n",
       "      <th>5</th>\n",
       "      <td>1</td>\n",
       "      <td>1</td>\n",
       "      <td>1</td>\n",
       "      <td>1</td>\n",
       "      <td>1</td>\n",
       "    </tr>\n",
       "    <tr>\n",
       "      <th>6</th>\n",
       "      <td>1</td>\n",
       "      <td>0</td>\n",
       "      <td>0</td>\n",
       "      <td>0</td>\n",
       "      <td>0</td>\n",
       "    </tr>\n",
       "    <tr>\n",
       "      <th>7</th>\n",
       "      <td>1</td>\n",
       "      <td>0</td>\n",
       "      <td>1</td>\n",
       "      <td>0</td>\n",
       "      <td>0</td>\n",
       "    </tr>\n",
       "    <tr>\n",
       "      <th>8</th>\n",
       "      <td>1</td>\n",
       "      <td>1</td>\n",
       "      <td>1</td>\n",
       "      <td>1</td>\n",
       "      <td>1</td>\n",
       "    </tr>\n",
       "    <tr>\n",
       "      <th>9</th>\n",
       "      <td>0</td>\n",
       "      <td>0</td>\n",
       "      <td>1</td>\n",
       "      <td>1</td>\n",
       "      <td>0</td>\n",
       "    </tr>\n",
       "  </tbody>\n",
       "</table>\n",
       "</div>"
      ],
      "text/plain": [
       "   toothed  hair  breathes  legs  species\n",
       "0        1     1         1     1        1\n",
       "1        1     1         1     1        1\n",
       "2        1     0         1     0        0\n",
       "3        0     1         1     1        1\n",
       "4        1     1         1     1        1\n",
       "5        1     1         1     1        1\n",
       "6        1     0         0     0        0\n",
       "7        1     0         1     0        0\n",
       "8        1     1         1     1        1\n",
       "9        0     0         1     1        0"
      ]
     },
     "execution_count": 258,
     "metadata": {},
     "output_type": "execute_result"
    }
   ],
   "source": [
    "data"
   ]
  },
  {
   "cell_type": "code",
   "execution_count": 259,
   "metadata": {},
   "outputs": [],
   "source": [
    "y=data.pop('species')\n",
    "X=data.copy()\n"
   ]
  },
  {
   "cell_type": "code",
   "execution_count": 260,
   "metadata": {},
   "outputs": [],
   "source": [
    "X_train,y_train=(X,y)"
   ]
  },
  {
   "cell_type": "code",
   "execution_count": 261,
   "metadata": {},
   "outputs": [],
   "source": [
    "X_train=np.array(X_train)\n",
    "y_train=np.array(y_train)"
   ]
  },
  {
   "cell_type": "code",
   "execution_count": 262,
   "metadata": {},
   "outputs": [],
   "source": [
    "def entropy(Y):\n",
    "    counts=np.bincount(Y)\n",
    "    p=counts/len(Y)\n",
    "    \n",
    "    if counts[0]==0 or counts[1]==0:\n",
    "        entropy=0 \n",
    "    else:\n",
    "        \n",
    "        \n",
    "        entropy=-1*np.sum(p*np.log2(p))  \n",
    "    return entropy"
   ]
  },
  {
   "cell_type": "code",
   "execution_count": 286,
   "metadata": {},
   "outputs": [
    {
     "ename": "SyntaxError",
     "evalue": "invalid syntax (1289390431.py, line 5)",
     "output_type": "error",
     "traceback": [
      "\u001b[0;36m  Cell \u001b[0;32mIn [286], line 5\u001b[0;36m\u001b[0m\n\u001b[0;31m    p=p+0.001 if p==0\u001b[0m\n\u001b[0m                     ^\u001b[0m\n\u001b[0;31mSyntaxError\u001b[0m\u001b[0;31m:\u001b[0m invalid syntax\n"
     ]
    }
   ],
   "source": [
    "counts=np.bincount(y_left)\n",
    "p=counts/len(y_left)\n",
    "p=p+0.000000000000001\n",
    "entropy=-np.sum(p*np.log2(p)) \n",
    "\n",
    "\n"
   ]
  },
  {
   "cell_type": "code",
   "execution_count": 263,
   "metadata": {},
   "outputs": [],
   "source": [
    "def gini_index(y):\n",
    "    counts=np.bincount(y)\n",
    "    p=counts/len(y)\n",
    "    \n",
    "        \n",
    "    gini=1-np.sum(np.square(p))\n",
    "    return gini"
   ]
  },
  {
   "cell_type": "code",
   "execution_count": 264,
   "metadata": {},
   "outputs": [
    {
     "data": {
      "text/plain": [
       "0.48"
      ]
     },
     "execution_count": 264,
     "metadata": {},
     "output_type": "execute_result"
    }
   ],
   "source": [
    "gini_index(y_train)"
   ]
  },
  {
   "cell_type": "code",
   "execution_count": 265,
   "metadata": {},
   "outputs": [
    {
     "data": {
      "text/plain": [
       "0.9709505944546686"
      ]
     },
     "execution_count": 265,
     "metadata": {},
     "output_type": "execute_result"
    }
   ],
   "source": [
    "entropy(y_train)"
   ]
  },
  {
   "cell_type": "code",
   "execution_count": 266,
   "metadata": {},
   "outputs": [],
   "source": [
    "def compute_entropy(y):\n",
    "    entropy=0\n",
    "    if len(y)!=0:\n",
    "        p1=len(y[y==1])/len(y)\n",
    "        \n",
    "        if p1 !=0 and p1 !=1:\n",
    "            entropy=-p1*np.log2(p1)-(1-p1)*np.log2(1-p1)\n",
    "        else:\n",
    "            entropy=0\n",
    "    return entropy    "
   ]
  },
  {
   "cell_type": "code",
   "execution_count": 267,
   "metadata": {},
   "outputs": [
    {
     "data": {
      "text/plain": [
       "0.9709505944546686"
      ]
     },
     "execution_count": 267,
     "metadata": {},
     "output_type": "execute_result"
    }
   ],
   "source": [
    "entropy(y_train)\n",
    "#compute_entropy(y_train)"
   ]
  },
  {
   "cell_type": "code",
   "execution_count": 268,
   "metadata": {},
   "outputs": [],
   "source": [
    "def split_dataset(X,node_indices,feature):\n",
    "    left_indices=[]\n",
    "    right_indices=[]\n",
    "    try:\n",
    "        \n",
    "        for i in node_indices:\n",
    "            if X.iloc[i][feature]==1:\n",
    "                left_indices.append(i)\n",
    "            else:\n",
    "                right_indices.append(i)\n",
    "    except:\n",
    "        for i in node_indices:\n",
    "            if X[i][feature]==1:\n",
    "                left_indices.append(i)\n",
    "            else:\n",
    "                right_indices.append(i)\n",
    "                    \n",
    "    return left_indices,right_indices            "
   ]
  },
  {
   "cell_type": "code",
   "execution_count": 269,
   "metadata": {},
   "outputs": [],
   "source": [
    "root_indices=np.arange(len(y_train))\n",
    "feature=0"
   ]
  },
  {
   "cell_type": "code",
   "execution_count": 270,
   "metadata": {},
   "outputs": [],
   "source": [
    "left_indices, right_indices = split_dataset(X_train, root_indices, feature)"
   ]
  },
  {
   "cell_type": "code",
   "execution_count": 271,
   "metadata": {},
   "outputs": [],
   "source": [
    "def information_gain(X,y,node_indices,feature):\n",
    "    left_indices,right_indices=split_dataset(X,node_indices,feature)\n",
    "    \n",
    "    try:\n",
    "        \n",
    "        X_node,y_node=X.iloc[node_indices],y.iloc[node_indices]\n",
    "        X_left,y_left=X.iloc[left_indices],y.iloc[left_indices]\n",
    "        X_right,y_right=X.iloc[right_indices],y.iloc[right_indices]\n",
    "    except:\n",
    "        X_node,y_node=X[node_indices],y[node_indices]\n",
    "        X_left,y_left=X[left_indices],y[left_indices]\n",
    "        X_right,y_right=X[right_indices],y[right_indices]\n",
    "            \n",
    "    \n",
    "    information_gain=0\n",
    "     \n",
    "    node_entropy=entropy(y_node)\n",
    "    left_entropy=entropy(y_left)\n",
    "    right_entropy=entropy(y_right)\n",
    "    \n",
    "    \n",
    "    w_left=len(X_left)/len(X_node)\n",
    "    w_right=len(X_right)/len(X_node)\n",
    "    weight_entropy=w_left*left_entropy+w_right*right_entropy \n",
    "    information_gain=node_entropy-weight_entropy \n",
    "    return information_gain   "
   ]
  },
  {
   "cell_type": "code",
   "execution_count": 272,
   "metadata": {},
   "outputs": [],
   "source": [
    "def compute_information_gain(X, y, node_indices, feature):\n",
    "    \n",
    "    \n",
    "    # Split dataset\n",
    "    left_indices, right_indices = split_dataset(X, node_indices, feature)\n",
    "    \n",
    "    # Some useful variables\n",
    "    X_node, y_node = X[node_indices], y[node_indices]\n",
    "    X_left, y_left = X[left_indices], y[left_indices]\n",
    "    X_right, y_right = X[right_indices], y[right_indices]\n",
    "    \n",
    "    # You need to return the following variables correctly\n",
    "    information_gain = 0\n",
    "    \n",
    "    ### START CODE HERE ###\n",
    "    node_entropy=compute_entropy(y_node)\n",
    "    left_entropy=compute_entropy(y_left)\n",
    "    right_entropy=compute_entropy(y_right)\n",
    "    \n",
    "    w_left=len(X_left)/len(X_node)\n",
    "    w_right=len(X_right)/len(X_node)\n",
    "    weight_entropy=w_left*left_entropy+w_right*right_entropy\n",
    "    information_gain=node_entropy-weight_entropy\n",
    "    ### END CODE HERE ###  \n",
    "    \n",
    "    return information_gain"
   ]
  },
  {
   "cell_type": "code",
   "execution_count": 273,
   "metadata": {},
   "outputs": [
    {
     "data": {
      "text/plain": [
       "0"
      ]
     },
     "execution_count": 273,
     "metadata": {},
     "output_type": "execute_result"
    }
   ],
   "source": [
    "left_indices, right_indices = split_dataset(X_train, root_indices, feature=1)\n",
    "X_node, y_node = X_train[root_indices], y_train[root_indices]\n",
    "X_left,y_left=X_train[left_indices],y_train[left_indices]\n",
    "X_right,y_right=X_train[right_indices],y_train[right_indices]\n",
    "entropy(y_node)\n",
    "entropy(y_left)\n"
   ]
  },
  {
   "cell_type": "code",
   "execution_count": null,
   "metadata": {},
   "outputs": [],
   "source": [
    "\n",
    "\n"
   ]
  },
  {
   "cell_type": "code",
   "execution_count": 274,
   "metadata": {},
   "outputs": [
    {
     "ename": "IndexError",
     "evalue": "index 1 is out of bounds for axis 0 with size 1",
     "output_type": "error",
     "traceback": [
      "\u001b[0;31m---------------------------------------------------------------------------\u001b[0m",
      "\u001b[0;31mIndexError\u001b[0m                                Traceback (most recent call last)",
      "Cell \u001b[0;32mIn [274], line 1\u001b[0m\n\u001b[0;32m----> 1\u001b[0m information_gain(X_train,y_train,root_indices,feature\u001b[39m=\u001b[39;49m\u001b[39m1\u001b[39;49m)\n",
      "Cell \u001b[0;32mIn [271], line 19\u001b[0m, in \u001b[0;36minformation_gain\u001b[0;34m(X, y, node_indices, feature)\u001b[0m\n\u001b[1;32m     17\u001b[0m node_entropy\u001b[39m=\u001b[39mentropy(y_node)\n\u001b[1;32m     18\u001b[0m left_entropy\u001b[39m=\u001b[39mentropy(y_left)\n\u001b[0;32m---> 19\u001b[0m right_entropy\u001b[39m=\u001b[39mentropy(y_right)\n\u001b[1;32m     22\u001b[0m w_left\u001b[39m=\u001b[39m\u001b[39mlen\u001b[39m(X_left)\u001b[39m/\u001b[39m\u001b[39mlen\u001b[39m(X_node)\n\u001b[1;32m     23\u001b[0m w_right\u001b[39m=\u001b[39m\u001b[39mlen\u001b[39m(X_right)\u001b[39m/\u001b[39m\u001b[39mlen\u001b[39m(X_node)\n",
      "Cell \u001b[0;32mIn [262], line 4\u001b[0m, in \u001b[0;36mentropy\u001b[0;34m(Y)\u001b[0m\n\u001b[1;32m      2\u001b[0m counts\u001b[39m=\u001b[39mnp\u001b[39m.\u001b[39mbincount(Y)\n\u001b[1;32m      3\u001b[0m p\u001b[39m=\u001b[39mcounts\u001b[39m/\u001b[39m\u001b[39mlen\u001b[39m(Y)\n\u001b[0;32m----> 4\u001b[0m \u001b[39mif\u001b[39;00m counts[\u001b[39m0\u001b[39m]\u001b[39m==\u001b[39m\u001b[39m0\u001b[39m \u001b[39mor\u001b[39;00m counts[\u001b[39m1\u001b[39;49m]\u001b[39m==\u001b[39m\u001b[39m0\u001b[39m:\n\u001b[1;32m      5\u001b[0m     entropy\u001b[39m=\u001b[39m\u001b[39m0\u001b[39m \n\u001b[1;32m      6\u001b[0m \u001b[39melse\u001b[39;00m:\n",
      "\u001b[0;31mIndexError\u001b[0m: index 1 is out of bounds for axis 0 with size 1"
     ]
    }
   ],
   "source": [
    "information_gain(X_train,y_train,root_indices,feature=1)\n"
   ]
  },
  {
   "cell_type": "code",
   "execution_count": null,
   "metadata": {},
   "outputs": [],
   "source": []
  },
  {
   "cell_type": "code",
   "execution_count": null,
   "metadata": {},
   "outputs": [],
   "source": [
    "def get_best_split(X, y, node_indices):   \n",
    "    \"\"\"\n",
    "    Returns the optimal feature and threshold value\n",
    "    to split the node data \n",
    "    \n",
    "    Args:\n",
    "        X (ndarray):            Data matrix of shape(n_samples, n_features)\n",
    "        y (array like):         list or ndarray with n_samples containing the target variable\n",
    "        node_indices (ndarray): List containing the active indices. I.e, the samples being considered in this step.\n",
    "\n",
    "    Returns:\n",
    "        best_feature (int):     The index of the best feature to split\n",
    "    \"\"\"    \n",
    "    \n",
    "    # Some useful variables\n",
    "    num_features = X.shape[1]\n",
    "    \n",
    "    # You need to return the following variables correctly\n",
    "    best_feature = -1\n",
    "    max_information_gain=0\n",
    "    \n",
    "    \n",
    "    ### START CODE HERE ###\n",
    "    for feature in range(num_features):\n",
    "        info_gain=information_gain(X, y, node_indices, feature)\n",
    "        if info_gain>max_information_gain:\n",
    "            max_information_gain=info_gain\n",
    "            best_feature=feature\n",
    "          \n",
    "    ### END CODE HERE ##    \n",
    "   \n",
    "    return best_feature"
   ]
  },
  {
   "cell_type": "code",
   "execution_count": null,
   "metadata": {},
   "outputs": [
    {
     "name": "stderr",
     "output_type": "stream",
     "text": [
      "/tmp/ipykernel_9059/1749654031.py:7: RuntimeWarning: divide by zero encountered in log2\n",
      "  entropy=-1*np.sum(p*np.log2(p))\n",
      "/tmp/ipykernel_9059/1749654031.py:7: RuntimeWarning: invalid value encountered in multiply\n",
      "  entropy=-1*np.sum(p*np.log2(p))\n"
     ]
    },
    {
     "data": {
      "text/plain": [
       "3"
      ]
     },
     "execution_count": 220,
     "metadata": {},
     "output_type": "execute_result"
    }
   ],
   "source": [
    "get_best_split(X_train, y_train, root_indices)"
   ]
  },
  {
   "cell_type": "code",
   "execution_count": null,
   "metadata": {},
   "outputs": [],
   "source": [
    "tree = []\n",
    "\n",
    "def build_tree_recursive(X, y, node_indices, branch_name, max_depth, current_depth):\n",
    "    \"\"\"\n",
    "    Build a tree using the recursive algorithm that split the dataset into 2 subgroups at each node.\n",
    "    This function just prints the tree.\n",
    "    \n",
    "    Args:\n",
    "        X (ndarray):            Data matrix of shape(n_samples, n_features)\n",
    "        y (array like):         list or ndarray with n_samples containing the target variable\n",
    "        node_indices (ndarray): List containing the active indices. I.e, the samples being considered in this step.\n",
    "        branch_name (string):   Name of the branch. ['Root', 'Left', 'Right']\n",
    "        max_depth (int):        Max depth of the resulting tree. \n",
    "        current_depth (int):    Current depth. Parameter used during recursive call.\n",
    "   \n",
    "    \"\"\" \n",
    "\n",
    "    # Maximum depth reached - stop splitting\n",
    "    if current_depth == max_depth:\n",
    "        formatting = \" \"*current_depth + \"-\"*current_depth\n",
    "        print(formatting, \"%s leaf node with indices\" % branch_name, node_indices)\n",
    "        return\n",
    "   \n",
    "    # Otherwise, get best split and split the data\n",
    "    # Get the best feature and threshold at this node\n",
    "    best_feature = get_best_split(X, y, node_indices) \n",
    "    \n",
    "    formatting = \"-\"*current_depth\n",
    "    print(\"%s Depth %d, %s: Split on feature: %d\" % (formatting, current_depth, branch_name, best_feature))\n",
    "    \n",
    "    # Split the dataset at the best feature\n",
    "    left_indices, right_indices = split_dataset(X, node_indices, best_feature)\n",
    "    tree.append((left_indices, right_indices, best_feature))\n",
    "    \n",
    "    # continue splitting the left and the right child. Increment current depth\n",
    "    build_tree_recursive(X, y, left_indices, \"Left\", max_depth, current_depth+1)\n",
    "    build_tree_recursive(X, y, right_indices, \"Right\", max_depth, current_depth+1)"
   ]
  },
  {
   "cell_type": "code",
   "execution_count": null,
   "metadata": {},
   "outputs": [
    {
     "name": "stdout",
     "output_type": "stream",
     "text": [
      " Depth 0, Root: Split on feature: 3\n",
      "- Depth 1, Left: Split on feature: -1\n",
      "  -- Left leaf node with indices [0, 1, 3, 4, 5, 8, 9]\n",
      "  -- Right leaf node with indices []\n",
      "- Depth 1, Right: Split on feature: -1\n",
      "  -- Left leaf node with indices []\n",
      "  -- Right leaf node with indices [2, 6, 7]\n"
     ]
    },
    {
     "name": "stderr",
     "output_type": "stream",
     "text": [
      "/tmp/ipykernel_9059/2413575221.py:4: RuntimeWarning: divide by zero encountered in log2\n",
      "  entropy=-1*np.sum(p*np.log2(p))\n",
      "/tmp/ipykernel_9059/2413575221.py:4: RuntimeWarning: invalid value encountered in multiply\n",
      "  entropy=-1*np.sum(p*np.log2(p))\n"
     ]
    }
   ],
   "source": [
    "build_tree_recursive(X_train, y_train, root_indices, \"Root\", max_depth=2, current_depth=0)"
   ]
  },
  {
   "cell_type": "code",
   "execution_count": null,
   "metadata": {},
   "outputs": [],
   "source": []
  }
 ],
 "metadata": {
  "kernelspec": {
   "display_name": "Python 3.8.10 64-bit",
   "language": "python",
   "name": "python3"
  },
  "language_info": {
   "codemirror_mode": {
    "name": "ipython",
    "version": 3
   },
   "file_extension": ".py",
   "mimetype": "text/x-python",
   "name": "python",
   "nbconvert_exporter": "python",
   "pygments_lexer": "ipython3",
   "version": "3.8.10"
  },
  "orig_nbformat": 4,
  "vscode": {
   "interpreter": {
    "hash": "31f2aee4e71d21fbe5cf8b01ff0e069b9275f58929596ceb00d14d90e3e16cd6"
   }
  }
 },
 "nbformat": 4,
 "nbformat_minor": 2
}
